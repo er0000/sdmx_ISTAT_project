{
 "cells": [
  {
   "cell_type": "code",
   "execution_count": 1,
   "metadata": {},
   "outputs": [],
   "source": [
    "from Common import *\n",
    "from peewee import *\n",
    "from logger import *\n",
    "from models import *  \n",
    "import xml.etree.ElementTree as ET\n",
    "import subprocess\n",
    "import os.path\n",
    "logger = get_logger(path = 'test_sdmx.log')\n"
   ]
  },
  {
   "cell_type": "code",
   "execution_count": 2,
   "metadata": {},
   "outputs": [
    {
     "name": "stderr",
     "output_type": "stream",
     "text": [
      "[2022-01-24 10:55:46,408]:[sdmx_istat]:[<module>]:[INFO]: **** FASE DOWNLOAD ****\n",
      "[2022-01-24 10:55:46,436]:[sdmx_istat]:[<module>]:[INFO]: ______________Stranieri residenti al 1° gennaio - Cittadinanza______________\n",
      "[2022-01-24 10:55:46,436]:[sdmx_istat]:[<module>]:[INFO]: ________________________________________________________\n",
      "[2022-01-24 10:55:46,437]:[sdmx_istat]:[<module>]:[INFO]: Controllo constraint in corso\n",
      "[2022-01-24 10:55:46,448]:[sdmx_istat]:[<module>]:[INFO]: livello geografico minimo: Comunale. download in corso  \n"
     ]
    },
    {
     "name": "stdout",
     "output_type": "stream",
     "text": [
      "Rscript get_data.R -r 29_317 -f A -s 2003 -e 2003 -g Comunale\n"
     ]
    },
    {
     "name": "stderr",
     "output_type": "stream",
     "text": [
      "[2022-01-24 10:56:27,665]:[sdmx_istat]:[<module>]:[INFO]: scaricati None in Not Found (HTTP 404).Errore in readSDMX(providerId = ISTAT, resource = data, flowRef = opt$flowref,  : \n",
      "  HTTP request failed with status: 404 \n",
      "Chiamate: %>% -> as.data.frame -> readSDMX\n",
      "Esecuzione interrotta\n",
      "\n",
      "[2022-01-24 10:56:27,711]:[sdmx_istat]:[<module>]:[INFO]: Aggiornata osservazione in db\n"
     ]
    },
    {
     "name": "stdout",
     "output_type": "stream",
     "text": [
      "Rscript get_data.R -r 29_317 -f A -s 2004 -e 2004 -g Comunale\n"
     ]
    },
    {
     "name": "stderr",
     "output_type": "stream",
     "text": [
      "[2022-01-24 10:57:07,736]:[sdmx_istat]:[<module>]:[INFO]: scaricati None in Not Found (HTTP 404).Errore in readSDMX(providerId = ISTAT, resource = data, flowRef = opt$flowref,  : \n",
      "  HTTP request failed with status: 404 \n",
      "Chiamate: %>% -> as.data.frame -> readSDMX\n",
      "Esecuzione interrotta\n",
      "\n",
      "[2022-01-24 10:57:07,795]:[sdmx_istat]:[<module>]:[INFO]: Aggiornata osservazione in db\n"
     ]
    },
    {
     "name": "stdout",
     "output_type": "stream",
     "text": [
      "Rscript get_data.R -r 29_317 -f A -s 2005 -e 2005 -g Comunale\n"
     ]
    },
    {
     "name": "stderr",
     "output_type": "stream",
     "text": [
      "[2022-01-24 10:57:48,652]:[sdmx_istat]:[<module>]:[INFO]: scaricati None in Not Found (HTTP 404).Errore in readSDMX(providerId = ISTAT, resource = data, flowRef = opt$flowref,  : \n",
      "  HTTP request failed with status: 404 \n",
      "Chiamate: %>% -> as.data.frame -> readSDMX\n",
      "Esecuzione interrotta\n",
      "\n",
      "[2022-01-24 10:57:48,685]:[sdmx_istat]:[<module>]:[INFO]: Aggiornata osservazione in db\n"
     ]
    },
    {
     "name": "stdout",
     "output_type": "stream",
     "text": [
      "Rscript get_data.R -r 29_317 -f A -s 2006 -e 2006 -g Comunale\n"
     ]
    },
    {
     "name": "stderr",
     "output_type": "stream",
     "text": [
      "[2022-01-24 10:58:29,633]:[sdmx_istat]:[<module>]:[INFO]: scaricati None in Not Found (HTTP 404).Errore in readSDMX(providerId = ISTAT, resource = data, flowRef = opt$flowref,  : \n",
      "  HTTP request failed with status: 404 \n",
      "Chiamate: %>% -> as.data.frame -> readSDMX\n",
      "Esecuzione interrotta\n",
      "\n",
      "[2022-01-24 10:58:29,667]:[sdmx_istat]:[<module>]:[INFO]: Aggiornata osservazione in db\n"
     ]
    },
    {
     "name": "stdout",
     "output_type": "stream",
     "text": [
      "Rscript get_data.R -r 29_317 -f A -s 2007 -e 2007 -g Comunale\n"
     ]
    },
    {
     "name": "stderr",
     "output_type": "stream",
     "text": [
      "[2022-01-24 10:59:08,925]:[sdmx_istat]:[<module>]:[INFO]: scaricati None in Not Found (HTTP 404).Errore in readSDMX(providerId = ISTAT, resource = data, flowRef = opt$flowref,  : \n",
      "  HTTP request failed with status: 404 \n",
      "Chiamate: %>% -> as.data.frame -> readSDMX\n",
      "Esecuzione interrotta\n",
      "\n",
      "[2022-01-24 10:59:08,970]:[sdmx_istat]:[<module>]:[INFO]: Aggiornata osservazione in db\n"
     ]
    },
    {
     "name": "stdout",
     "output_type": "stream",
     "text": [
      "Rscript get_data.R -r 29_317 -f A -s 2008 -e 2008 -g Comunale\n"
     ]
    },
    {
     "name": "stderr",
     "output_type": "stream",
     "text": [
      "[2022-01-24 10:59:49,287]:[sdmx_istat]:[<module>]:[INFO]: scaricati None in Not Found (HTTP 404).Errore in readSDMX(providerId = ISTAT, resource = data, flowRef = opt$flowref,  : \n",
      "  HTTP request failed with status: 404 \n",
      "Chiamate: %>% -> as.data.frame -> readSDMX\n",
      "Esecuzione interrotta\n",
      "\n",
      "[2022-01-24 10:59:49,317]:[sdmx_istat]:[<module>]:[INFO]: Aggiornata osservazione in db\n"
     ]
    },
    {
     "name": "stdout",
     "output_type": "stream",
     "text": [
      "Rscript get_data.R -r 29_317 -f A -s 2009 -e 2009 -g Comunale\n"
     ]
    },
    {
     "name": "stderr",
     "output_type": "stream",
     "text": [
      "[2022-01-24 11:00:29,451]:[sdmx_istat]:[<module>]:[INFO]: scaricati None in Not Found (HTTP 404).Errore in readSDMX(providerId = ISTAT, resource = data, flowRef = opt$flowref,  : \n",
      "  HTTP request failed with status: 404 \n",
      "Chiamate: %>% -> as.data.frame -> readSDMX\n",
      "Esecuzione interrotta\n",
      "\n",
      "[2022-01-24 11:00:29,480]:[sdmx_istat]:[<module>]:[INFO]: Aggiornata osservazione in db\n"
     ]
    },
    {
     "name": "stdout",
     "output_type": "stream",
     "text": [
      "Rscript get_data.R -r 29_317 -f A -s 2010 -e 2010 -g Comunale\n"
     ]
    },
    {
     "name": "stderr",
     "output_type": "stream",
     "text": [
      "[2022-01-24 11:01:08,263]:[sdmx_istat]:[<module>]:[INFO]: scaricati None in Not Found (HTTP 404).Errore in readSDMX(providerId = ISTAT, resource = data, flowRef = opt$flowref,  : \n",
      "  HTTP request failed with status: 404 \n",
      "Chiamate: %>% -> as.data.frame -> readSDMX\n",
      "Esecuzione interrotta\n",
      "\n",
      "[2022-01-24 11:01:08,296]:[sdmx_istat]:[<module>]:[INFO]: Aggiornata osservazione in db\n"
     ]
    },
    {
     "name": "stdout",
     "output_type": "stream",
     "text": [
      "Rscript get_data.R -r 29_317 -f A -s 2011 -e 2011 -g Comunale\n"
     ]
    },
    {
     "name": "stderr",
     "output_type": "stream",
     "text": [
      "[2022-01-24 11:01:46,436]:[sdmx_istat]:[<module>]:[INFO]: scaricati None in Not Found (HTTP 404).Errore in readSDMX(providerId = ISTAT, resource = data, flowRef = opt$flowref,  : \n",
      "  HTTP request failed with status: 404 \n",
      "Chiamate: %>% -> as.data.frame -> readSDMX\n",
      "Esecuzione interrotta\n",
      "\n",
      "[2022-01-24 11:01:46,465]:[sdmx_istat]:[<module>]:[INFO]: Aggiornata osservazione in db\n"
     ]
    },
    {
     "name": "stdout",
     "output_type": "stream",
     "text": [
      "Rscript get_data.R -r 29_317 -f A -s 2012 -e 2012 -g Comunale\n"
     ]
    },
    {
     "name": "stderr",
     "output_type": "stream",
     "text": [
      "[2022-01-24 11:02:26,042]:[sdmx_istat]:[<module>]:[INFO]: scaricati None in Not Found (HTTP 404).Errore in readSDMX(providerId = ISTAT, resource = data, flowRef = opt$flowref,  : \n",
      "  HTTP request failed with status: 404 \n",
      "Chiamate: %>% -> as.data.frame -> readSDMX\n",
      "Esecuzione interrotta\n",
      "\n",
      "[2022-01-24 11:02:26,088]:[sdmx_istat]:[<module>]:[INFO]: Aggiornata osservazione in db\n"
     ]
    },
    {
     "name": "stdout",
     "output_type": "stream",
     "text": [
      "Rscript get_data.R -r 29_317 -f A -s 2013 -e 2013 -g Comunale\n"
     ]
    },
    {
     "name": "stderr",
     "output_type": "stream",
     "text": [
      "[2022-01-24 11:03:04,880]:[sdmx_istat]:[<module>]:[INFO]: scaricati None in Not Found (HTTP 404).Errore in readSDMX(providerId = ISTAT, resource = data, flowRef = opt$flowref,  : \n",
      "  HTTP request failed with status: 404 \n",
      "Chiamate: %>% -> as.data.frame -> readSDMX\n",
      "Esecuzione interrotta\n",
      "\n",
      "[2022-01-24 11:03:04,909]:[sdmx_istat]:[<module>]:[INFO]: Aggiornata osservazione in db\n"
     ]
    },
    {
     "name": "stdout",
     "output_type": "stream",
     "text": [
      "Rscript get_data.R -r 29_317 -f A -s 2014 -e 2014 -g Comunale\n"
     ]
    },
    {
     "name": "stderr",
     "output_type": "stream",
     "text": [
      "[2022-01-24 11:03:42,687]:[sdmx_istat]:[<module>]:[INFO]: scaricati None in Not Found (HTTP 404).Errore in readSDMX(providerId = ISTAT, resource = data, flowRef = opt$flowref,  : \n",
      "  HTTP request failed with status: 404 \n",
      "Chiamate: %>% -> as.data.frame -> readSDMX\n",
      "Esecuzione interrotta\n",
      "\n",
      "[2022-01-24 11:03:42,716]:[sdmx_istat]:[<module>]:[INFO]: Aggiornata osservazione in db\n"
     ]
    },
    {
     "name": "stdout",
     "output_type": "stream",
     "text": [
      "Rscript get_data.R -r 29_317 -f A -s 2015 -e 2015 -g Comunale\n"
     ]
    },
    {
     "name": "stderr",
     "output_type": "stream",
     "text": [
      "[2022-01-24 11:04:23,380]:[sdmx_istat]:[<module>]:[INFO]: scaricati None in Not Found (HTTP 404).Errore in readSDMX(providerId = ISTAT, resource = data, flowRef = opt$flowref,  : \n",
      "  HTTP request failed with status: 404 \n",
      "Chiamate: %>% -> as.data.frame -> readSDMX\n",
      "Esecuzione interrotta\n",
      "\n",
      "[2022-01-24 11:04:23,411]:[sdmx_istat]:[<module>]:[INFO]: Aggiornata osservazione in db\n"
     ]
    },
    {
     "name": "stdout",
     "output_type": "stream",
     "text": [
      "Rscript get_data.R -r 29_317 -f A -s 2016 -e 2016 -g Comunale\n"
     ]
    },
    {
     "name": "stderr",
     "output_type": "stream",
     "text": [
      "[2022-01-24 11:05:05,949]:[sdmx_istat]:[<module>]:[INFO]: scaricati None in Not Found (HTTP 404).Errore in readSDMX(providerId = ISTAT, resource = data, flowRef = opt$flowref,  : \n",
      "  HTTP request failed with status: 404 \n",
      "Chiamate: %>% -> as.data.frame -> readSDMX\n",
      "Esecuzione interrotta\n",
      "\n",
      "[2022-01-24 11:05:06,003]:[sdmx_istat]:[<module>]:[INFO]: Aggiornata osservazione in db\n"
     ]
    },
    {
     "name": "stdout",
     "output_type": "stream",
     "text": [
      "Rscript get_data.R -r 29_317 -f A -s 2017 -e 2017 -g Comunale\n"
     ]
    },
    {
     "name": "stderr",
     "output_type": "stream",
     "text": [
      "[2022-01-24 11:05:46,593]:[sdmx_istat]:[<module>]:[INFO]: scaricati None in Not Found (HTTP 404).Errore in readSDMX(providerId = ISTAT, resource = data, flowRef = opt$flowref,  : \n",
      "  HTTP request failed with status: 404 \n",
      "Chiamate: %>% -> as.data.frame -> readSDMX\n",
      "Esecuzione interrotta\n",
      "\n",
      "[2022-01-24 11:05:46,648]:[sdmx_istat]:[<module>]:[INFO]: Aggiornata osservazione in db\n",
      "[2022-01-24 11:05:46,693]:[sdmx_istat]:[<module>]:[INFO]: *** stop***\n"
     ]
    }
   ],
   "source": [
    "import time\n",
    "######### leggo i risultati dello scraping e seleziono le nuove osservazioni da scaricare\n",
    "    ######### Aggiunto scarico + parsing delle constraint + individuazione livello geografico \n",
    "        ######### aggiunta modifica dei campi Download e Volume post scarico\n",
    "            ###### gestito parametro frequenza in base alle constraint(si provano tutte), **ELIMINATO** frequenza=annuale\n",
    "                ######## TODO: gestire scarichi multipli in base ai livelli geografici minimi disponibili\n",
    "                                # Al momento scarica al livello geo minimo disponibile\n",
    "                    ###### Aggiunto controllo sulla pre-esistenza del file constraint.xml\n",
    "\n",
    "\n",
    "logger.info('**** FASE DOWNLOAD ****')\n",
    "\n",
    "   \n",
    "try:\n",
    "    cur=db.cursor()\n",
    "    cur.execute('select * from monitor where download=False')\n",
    "    result=cur.fetchall()\n",
    "    db.close()\n",
    "\n",
    "    for flow in result:\n",
    "        \n",
    "        flowRef=flow[3]\n",
    "        start=flow[5]\n",
    "        end=flow[6]+1\n",
    "        titolo=flow[2]\n",
    "        data_agg=flow[4]\n",
    "        anni=range(start,end)\n",
    "\n",
    "\n",
    "        logger.info(f'______________{flow[2]}______________')\n",
    "        logger.info('________________________________________________________')\n",
    "        logger.info('Controllo constraint in corso')\n",
    "        \n",
    "        exist=os.path.isfile(f'./constraint/constraint_{flowRef}.xml') \n",
    "        \n",
    "        if exist:\n",
    "\n",
    "            constraint=parse_constraint(flowRef)\n",
    "\n",
    "        else:\n",
    "            \n",
    "            get_constraint(flowRef) \n",
    "        \n",
    "            constraint=parse_constraint(flowRef)\n",
    "              \n",
    "\n",
    "        geo=get_geo_level(constraint) \n",
    "        \n",
    "        if min_geo_level(geo):\n",
    "\n",
    "            \n",
    "            logger.info(f'livello geografico minimo: {geo}. \\b download in corso  ')\n",
    "\n",
    "            #for fr in constraint['FREQ']:\n",
    "            for a in anni:\n",
    "\n",
    "                try:\n",
    "                    \n",
    "                    cmd=f'Rscript get_data.R -r {flowRef} -f A -s {a} -e {a} -g {geo} -d {down_dir}'\n",
    "                    print(cmd)\n",
    "\n",
    "                    result=subprocess.run(cmd, stderr=subprocess.PIPE,stdout=subprocess.PIPE, text=True)\n",
    "                    volume,note= get_cmd_info(result)\n",
    "                    logger.info(f'scaricati {volume} in {time}')\n",
    "                    cur=db.cursor()\n",
    "                    \n",
    "                    query=f'insert INTO Download (titolo,flow,data_aggiornamento,anno,volume,note,livello_geografico)values (\"{titolo}\",\"{flowRef}\",\"{data_agg}\",\"{a}\",\"{volume}\",\"{note}\",\"{geo}\");'\n",
    "                    cur.execute(query)  \n",
    "                    logger.info(f'Aggiornata osservazione in db')\n",
    "                    db.close()\n",
    "                \n",
    "                except Exception as e:\n",
    "\n",
    "                    logger.error(e)\n",
    "            \n",
    "            query=f'UPDATE Monitor SET download=True WHERE flow=\"{flowRef}\" and data_aggiornamento=\"{data_agg}\";'            \n",
    "            cur=db.cursor()\n",
    "            cur.execute(query)  \n",
    "            db.close()\n",
    "\n",
    "        else:\n",
    "\n",
    "            logger.info(f'livello geografico: {geo}. \\b non verrà eseguito il download')\n",
    "            \n",
    "            try:\n",
    "                cur=db.cursor()\n",
    "                    \n",
    "                query=f'UPDATE Monitor SET  note = \"Livello geografico {geo}\" , download=True WHERE flow=\"{flowRef}\" and data_aggiornamento=\"{data_agg}\";'\n",
    "                cur.execute(query)  \n",
    "                db.close()\n",
    "            \n",
    "            except Exception as e:\n",
    "\n",
    "                logger.error(e)\n",
    "    \n",
    "    logger.info('*** stop***')   \n",
    "except Exception as e:\n",
    "\n",
    "    logger.error(e)\n",
    "\n"
   ]
  },
  {
   "cell_type": "code",
   "execution_count": 3,
   "metadata": {},
   "outputs": [],
   "source": [
    "from conf import conf"
   ]
  },
  {
   "cell_type": "code",
   "execution_count": 4,
   "metadata": {},
   "outputs": [
    {
     "data": {
      "text/plain": [
       "CompletedProcess(args='Rscript get_data.R -r 29_317 -f A -s 2017 -e 2017 -g Comunale', returncode=1, stdout=\"[rsdmx][INFO] Fetching 'http://sdmx.istat.it/SDMXWS/rest/dataflow/all/all/latest/' \\n[rsdmx][INFO] Fetching 'http://sdmx.istat.it/SDMXWS/rest/datastructure/all/DCIS_POPSTRCIT1/latest/?references=children' \\n[rsdmx][INFO] Fetching 'http://sdmx.istat.it/SDMXWS/rest/data/29_317/A...037001+037002+037003+037005+037006+037007+037008+037009+037010+037011+037012+037013+037014+037015+037016+037017+037019+037020+037021+037022+037024+037025+037026+037027+037028+037030+037031./all/?startPeriod=2017&endPeriod=2017' \\n\", stderr='\\nCaricamento pacchetto: \\'dplyr\\'\\n\\nI seguenti oggetti sono mascherati da \\'package:stats\\':\\n\\n    filter, lag\\n\\nI seguenti oggetti sono mascherati da \\'package:base\\':\\n\\n    intersect, setdiff, setequal, union\\n\\nMessaggio di avvertimento:\\nil pacchetto \\'optparse\\' è stato creato con R versione 4.1.2 \\nNot Found (HTTP 404).Errore in readSDMX(providerId = \"ISTAT\", resource = \"data\", flowRef = opt$flowref,  : \\n  HTTP request failed with status: 404 \\nChiamate: %>% -> as.data.frame -> readSDMX\\nEsecuzione interrotta\\n')"
      ]
     },
     "execution_count": 4,
     "metadata": {},
     "output_type": "execute_result"
    }
   ],
   "source": [
    "def get_cmd_info(result):\n",
    "    import re\n",
    "    size=re.compile('(?:SIZE:)(.*)\"')\n",
    "    sec=re.compile('(.* sec) elapsed')\n",
    "    err=re.compile('Not Found (HTTP 404)')\n",
    "\n",
    "    try:\n",
    "        volume=size.findall(result)[0]\n",
    "        time=sec.findall(result)[0]\n",
    "        err=None\n",
    "    except:\n",
    "        volume=None\n",
    "        time=None\n",
    "        err=err.search(result)\n",
    "\n",
    "    return volume,time,err"
   ]
  },
  {
   "cell_type": "code",
   "execution_count": 11,
   "metadata": {},
   "outputs": [],
   "source": [
    "cur=db.cursor()\n",
    "cur.execute('select * from monitor where download=False')\n",
    "result=cur.fetchall()\n",
    "db.close()\n",
    "flowRef=flow[3]\n",
    "start=flow[5]\n",
    "end=flow[6]\n",
    "titolo=flow[2]\n",
    "data_agg=flow[4]\n",
    "anni=range(start,end)"
   ]
  },
  {
   "cell_type": "code",
   "execution_count": 15,
   "metadata": {},
   "outputs": [],
   "source": [
    "result=subprocess.run(cmd, stderr=subprocess.PIPE,stdout=subprocess.PIPE, text=True)"
   ]
  },
  {
   "cell_type": "code",
   "execution_count": 14,
   "metadata": {},
   "outputs": [],
   "source": [
    "cmd='Rscript get_data.R -r 29_317 -f A -s 2021 -e 2021 -g Comunale'"
   ]
  },
  {
   "cell_type": "code",
   "execution_count": 13,
   "metadata": {},
   "outputs": [
    {
     "name": "stdout",
     "output_type": "stream",
     "text": [
      "2003\n",
      "2004\n",
      "2005\n",
      "2006\n",
      "2007\n",
      "2008\n",
      "2009\n",
      "2010\n",
      "2011\n",
      "2012\n",
      "2013\n",
      "2014\n",
      "2015\n",
      "2016\n",
      "2017\n",
      "2018\n"
     ]
    }
   ],
   "source": [
    "start=flow[5]\n",
    "end=flow[6]+1\n",
    "anni=range(start,end)\n",
    "\n",
    "for a in anni:\n",
    "    print(a)"
   ]
  }
 ],
 "metadata": {
  "interpreter": {
   "hash": "71aabe6f1a03ef3ab91ab791759cfee46080b353293c6b2d97a55943f261d539"
  },
  "kernelspec": {
   "display_name": "Python 3.9.10 64-bit (windows store)",
   "name": "python3"
  },
  "language_info": {
   "codemirror_mode": {
    "name": "ipython",
    "version": 3
   },
   "file_extension": ".py",
   "mimetype": "text/x-python",
   "name": "python",
   "nbconvert_exporter": "python",
   "pygments_lexer": "ipython3",
   "version": "3.9.10"
  },
  "orig_nbformat": 4
 },
 "nbformat": 4,
 "nbformat_minor": 2
}
