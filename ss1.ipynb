{
 "cells": [
  {
   "cell_type": "code",
   "execution_count": null,
   "metadata": {},
   "outputs": [],
   "source": [
    "22_315, 29_316 ,29_317, 29_7, 22_289\n",
    "\n",
    "# pop residente bilancio\n",
    "# stranieri residenti bilancio\n",
    "# 31 dic. bilancio = pop. residenti 1 gennaio"
   ]
  },
  {
   "cell_type": "code",
   "execution_count": null,
   "metadata": {},
   "outputs": [],
   "source": []
  }
 ],
 "metadata": {
  "interpreter": {
   "hash": "71aabe6f1a03ef3ab91ab791759cfee46080b353293c6b2d97a55943f261d539"
  },
  "kernelspec": {
   "display_name": "Python 3.9.10 64-bit (windows store)",
   "name": "python3"
  },
  "language_info": {
   "name": "python",
   "version": "3.9.10"
  },
  "orig_nbformat": 4
 },
 "nbformat": 4,
 "nbformat_minor": 2
}
