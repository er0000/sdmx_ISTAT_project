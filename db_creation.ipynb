{
 "cells": [
  {
   "cell_type": "code",
   "execution_count": 1,
   "metadata": {},
   "outputs": [],
   "source": [
    "conf =  {\n",
    "\n",
    "    'db':{\n",
    "        'dev':{\n",
    "            'host':'',\n",
    "            'port':3306,\n",
    "            'user':'',\n",
    "            'dbname':'monitor_dev.db'\n",
    "        }, \n",
    "        'prod':{        \n",
    "            'host':'',\n",
    "            'port':'',\n",
    "            'user':'',\n",
    "            'password':'',\n",
    "            'dbname':'monitor_prod.db'\n",
    "        }\n",
    "    }, \n",
    "    'env':'dev'\n",
    "    }"
   ]
  },
  {
   "cell_type": "code",
   "execution_count": 14,
   "metadata": {},
   "outputs": [],
   "source": [
    "from peewee import *\n",
    "#env = conf['env']\n",
    "\n",
    "#db_par = conf['db'][env]\n",
    "\n",
    "#db = SqliteDatabase(db_par['dbname'])\n",
    "db = SqliteDatabase('monitor_sviluppo.db')\n",
    "\n",
    "import datetime\n",
    "from peewee import *\n",
    "\n",
    "\n",
    "class BaseModel(Model):\n",
    "    class Meta:\n",
    "        database = db\n",
    "\n",
    "\n",
    "class Monitor(BaseModel):\n",
    "    id = BigAutoField(primary_key = True)\n",
    "    data_run = DateTimeField(default=datetime.datetime.now)\n",
    "    titolo=TextField(null=True)\n",
    "    flow = TextField(null=True)\n",
    "    data_aggiornamento=DateTimeField(formats='%d/%m/%Y %H:%M', null=True, index=True)\n",
    "    start_periodo=DateTimeField()\n",
    "    end_periodo=DateTimeField()\n",
    "    download  =  BooleanField(default=False)\n",
    "    volume = DoubleField(null=True)\n",
    "    note = TextField(null=True)\n",
    "\n",
    "def initialize_db():\n",
    "    db.connect()\n",
    "    db.create_tables([Monitor], safe = True)\n",
    "    db.close()    \n",
    "\n",
    "    \n"
   ]
  },
  {
   "cell_type": "code",
   "execution_count": 15,
   "metadata": {},
   "outputs": [],
   "source": [
    "initialize_db()\n"
   ]
  },
  {
   "cell_type": "code",
   "execution_count": 16,
   "metadata": {},
   "outputs": [],
   "source": [
    "db.create_tables([Monitor])\n"
   ]
  },
  {
   "cell_type": "code",
   "execution_count": 19,
   "metadata": {},
   "outputs": [
    {
     "data": {
      "text/plain": [
       "['monitor']"
      ]
     },
     "execution_count": 19,
     "metadata": {},
     "output_type": "execute_result"
    }
   ],
   "source": [
    "db.get_tables()"
   ]
  },
  {
   "cell_type": "code",
   "execution_count": 61,
   "metadata": {},
   "outputs": [
    {
     "data": {
      "text/plain": [
       "True"
      ]
     },
     "execution_count": 61,
     "metadata": {},
     "output_type": "execute_result"
    }
   ],
   "source": [
    "db.close()"
   ]
  },
  {
   "cell_type": "code",
   "execution_count": 22,
   "metadata": {},
   "outputs": [],
   "source": [
    "rows=Monitor.select()\n",
    "for row in rows:\n",
    "    print(rows)"
   ]
  },
  {
   "cell_type": "code",
   "execution_count": 21,
   "metadata": {},
   "outputs": [
    {
     "data": {
      "text/plain": [
       "<Model: Monitor>"
      ]
     },
     "execution_count": 21,
     "metadata": {},
     "output_type": "execute_result"
    }
   ],
   "source": [
    "Monitor"
   ]
  },
  {
   "cell_type": "code",
   "execution_count": null,
   "metadata": {},
   "outputs": [],
   "source": []
  }
 ],
 "metadata": {
  "interpreter": {
   "hash": "d798cf5d24983ff618b9e359da582c83bf13012854e4e62d491200fd12e0a614"
  },
  "kernelspec": {
   "display_name": "Python 3.9.9 64-bit (windows store)",
   "name": "python3"
  },
  "language_info": {
   "codemirror_mode": {
    "name": "ipython",
    "version": 3
   },
   "file_extension": ".py",
   "mimetype": "text/x-python",
   "name": "python",
   "nbconvert_exporter": "python",
   "pygments_lexer": "ipython3",
   "version": "3.9.9"
  },
  "orig_nbformat": 4
 },
 "nbformat": 4,
 "nbformat_minor": 2
}
