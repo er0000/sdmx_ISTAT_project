{
 "cells": [
  {
   "cell_type": "code",
   "execution_count": 1,
   "metadata": {},
   "outputs": [
    {
     "name": "stderr",
     "output_type": "stream",
     "text": [
      "\n",
      "\n",
      "====== WebDriver manager ======\n",
      "Current google-chrome version is 97.0.4692\n",
      "Get LATEST chromedriver version for 97.0.4692 google-chrome\n",
      "Trying to download new driver from https://chromedriver.storage.googleapis.com/97.0.4692.71/chromedriver_win32.zip\n",
      "Driver has been saved in cache [C:\\Users\\riccie\\.wdm\\drivers\\chromedriver\\win32\\97.0.4692.71]\n"
     ]
    }
   ],
   "source": [
    "from Common import *\n",
    "from models import *\n",
    "from selenium import webdriver\n",
    "from selenium.webdriver.chrome.service import Service\n",
    "from webdriver_manager.chrome import ChromeDriverManager\n",
    "from selenium.webdriver.common.by import By\n",
    "from selenium.webdriver.support.ui import WebDriverWait\n",
    "from selenium.webdriver.support import expected_conditions as EC\n",
    "from logger import *    \n",
    "from peewee import *\n",
    "\n",
    "s=Service(ChromeDriverManager().install())\n",
    "\n",
    "logger = get_logger(path = 'test_sdmx.log')\n"
   ]
  },
  {
   "cell_type": "code",
   "execution_count": 2,
   "metadata": {},
   "outputs": [
    {
     "name": "stderr",
     "output_type": "stream",
     "text": [
      "[2022-01-18 08:24:52,426]:[sdmx_istat]:[<module>]:[INFO]: **** START ****\n"
     ]
    }
   ],
   "source": [
    "logger.info('**** START ****')\n",
    "driver = webdriver.Chrome(service=s)\n",
    "url = 'https://www.istat.it/it/metodi-e-strumenti/web-service-sdmx#Aggiornamentodeidataseterelativequery-2'\n",
    "driver.get(url )\n",
    "\n",
    "try:\n",
    "    element = WebDriverWait(driver, 10).until(\n",
    "        EC.presence_of_element_located((By.ID, \"rsssep\"))\n",
    "    )\n",
    "    page_source = driver.page_source\n",
    "\n",
    "finally:\n",
    "    driver.quit()\n"
   ]
  },
  {
   "cell_type": "code",
   "execution_count": 3,
   "metadata": {},
   "outputs": [],
   "source": [
    "from bs4 import BeautifulSoup\n",
    "import lxml\n",
    "soup = BeautifulSoup(page_source,'html.parser')\n"
   ]
  },
  {
   "cell_type": "code",
   "execution_count": 4,
   "metadata": {},
   "outputs": [],
   "source": [
    "#Common\n",
    "def Get_box_info(box):\n",
    "\n",
    "    ######################## REGEX ##############################\n",
    "    import re\n",
    "    start_regex=re.compile('(?<=<query:StartTime>)(.*)(?=</query:StartTime>)')\n",
    "    end_regex=re.compile('(?<=<query:EndTime>)(.*)(?=</query:EndTime>)')\n",
    "    id_regex=re.compile('(?<=<ID>)(.*)(?=</ID>)')\n",
    "    ##############################################################\n",
    "    \n",
    "    titolo=box.find(class_='title').text\n",
    "    \n",
    "    data=box.find(class_='date').text\n",
    "    \n",
    "    text=box.find('textarea').text\n",
    "    \n",
    "    start=start_regex.findall(text)[0]\n",
    "    end=end_regex.findall(text)[0]\n",
    "    \n",
    "    ID=id_regex.findall(text)[0]\n",
    "    \n",
    "    return dict(titolo=titolo,\n",
    "                data_aggiornamento=data,\n",
    "                start_periodo=start,\n",
    "                end_periodo=end,\n",
    "                flow=ID)\n",
    "\n"
   ]
  },
  {
   "cell_type": "code",
   "execution_count": 5,
   "metadata": {},
   "outputs": [
    {
     "name": "stderr",
     "output_type": "stream",
     "text": [
      "[2022-01-18 08:24:59,783]:[sdmx_istat]:[<module>]:[INFO]: Identificate 2 pagine di aggiornamenti per un totale di 13 dataset\n"
     ]
    },
    {
     "name": "stdout",
     "output_type": "stream",
     "text": [
      "______________ box numero 1 _______________\n",
      "Ipca - medie annue dal 2001 (base 2015)\n",
      "aggiornato il 17/01/2022 11:30\n",
      "info per query ->  168_758 2020 2021\n",
      " \n",
      "______________ box numero 2 _______________\n",
      "IPCA a tassazione costante - Medie annue dal 2002 (base 2015=100)\n",
      "aggiornato il 17/01/2022 10:29\n",
      "info per query ->  168_757 2021 2021\n",
      " \n",
      "______________ box numero 3 _______________\n",
      "Interruzioni volontarie della gravidanza - Caratteristiche della donna\n",
      "aggiornato il 17/01/2022 01:58\n",
      "info per query ->  42_70 2020 2020\n",
      " \n",
      "______________ box numero 4 _______________\n",
      "Foi - medie annue dal 2016 (base 2015)\n",
      "aggiornato il 17/01/2022 11:58\n",
      "info per query ->  169_746 2021 2021\n",
      " \n",
      "______________ box numero 5 _______________\n",
      "FOI - Dati mensili dal 2016\n",
      "aggiornato il 17/01/2022 10:11\n",
      "info per query ->  169_745 2021 2021\n",
      " \n",
      "______________ box numero 6 _______________\n",
      "Ipca - mensili dal 2001 (base 2015)\n",
      "aggiornato il 17/01/2022 10:18\n",
      "info per query ->  168_760 2021 2021\n",
      " \n",
      "______________ box numero 7 _______________\n",
      "Trasporto aereo\n",
      "aggiornato il 17/01/2022 04:52\n",
      "info per query ->  121_331 2020 2020\n",
      " \n",
      "______________ box numero 8 _______________\n",
      "IPCA a tassazione costante - Dati mensili dal 2002 (base 2015=100)\n",
      "aggiornato il 17/01/2022 10:21\n",
      "info per query ->  168_756 2021 2021\n",
      " \n",
      "______________ box numero 9 _______________\n",
      "Nic - mensili dal 2016 (base 2015)\n",
      "aggiornato il 17/01/2022 10:10\n",
      "info per query ->  167_744 2021 2021\n",
      " \n",
      "______________ box numero 10 _______________\n",
      "Nic - medie annue dal 2016 (base 2015)\n",
      "aggiornato il 17/01/2022 02:50\n",
      "info per query ->  167_742 2021 2021\n",
      " \n",
      "______________ box numero 2 _______________\n",
      "Indicatori  permessi di costruire\n",
      "aggiornato il 14/01/2022 10:12\n",
      "info per query ->  111_111 2000 2021\n",
      " \n",
      "______________ box numero 3 _______________\n",
      "Unità istituzionali\n",
      "aggiornato il 13/01/2022 08:43\n",
      "info per query ->  123_713 2021 2021\n",
      " \n",
      "______________ box numero 4 _______________\n",
      "Indice della produzione industriale\n",
      "aggiornato il 13/01/2022 10:04\n",
      "info per query ->  115_333 2001 2021\n",
      " \n"
     ]
    }
   ],
   "source": [
    "### aggiunta gestione casistica unica pagina di aggiornamenti\n",
    "try:\n",
    "\n",
    "    l=soup.find(class_='simplePagerNav')\n",
    "    result=[]\n",
    "    ndt=0\n",
    "    len(l)\n",
    "    logger.debug('Casistica multi pagina')\n",
    "    info_list=[]\n",
    "    for i in list(range(1, len(l)+1)):\n",
    "        cl='simplePagerPage'+str(i)\n",
    "        page=soup.find_all(class_=cl)\n",
    "        for box in page:\n",
    "                    print('______________ box numero', i, '_______________')\n",
    "                    Info=Get_box_info(box)\n",
    "                    print(Info['titolo'])\n",
    "                    print('aggiornato il ' + Info['data_aggiornamento'])\n",
    "                    print('info per query -> ',  Info['flow'],  Info['start_periodo'], Info['end_periodo'])\n",
    "                    print(' ')\n",
    "                    i=i+1\n",
    "                    ndt=ndt+1 \n",
    "                    info_list.append(Info)\n",
    "    logger.info(f'Identificate {len(l)} pagine di aggiornamenti per un totale di {ndt} dataset')\n",
    "    \n",
    "except TypeError as e :   \n",
    "    logger.error(e)\n",
    "    logger.debug('Except - casistica unica pagina')\n",
    "    cl='simplePagerPage1'\n",
    "    page=soup.find_all(class_=cl)\n",
    "    i=1\n",
    "    info_list=[]\n",
    "    for box in page:\n",
    "        print('______________ box numero', i, '_______________')\n",
    "        Info=Get_box_info(box)\n",
    "        print(Info['titolo'])\n",
    "        print('aggiornato il ' + Info['data_aggiornamento'])\n",
    "        print('info per query -> ',  Info['flow'], '-' ,Info['start_periodo'], '-' ,Info['end_periodo'])\n",
    "        print(' ')\n",
    "        i=i+1\n",
    "        info_list.append(Info)\n",
    "\n",
    "    logger.info(f'Identificata 1 pagina di aggiornamenti per un totale di {len(page)} dataset ')\n",
    "      \n",
    "\n"
   ]
  },
  {
   "cell_type": "code",
   "execution_count": 6,
   "metadata": {},
   "outputs": [
    {
     "name": "stderr",
     "output_type": "stream",
     "text": [
      "[2022-01-18 08:25:11,429]:[sdmx_istat]:[<module>]:[INFO]: Aggiornamento flow 168_758 già presente in db\n",
      "[2022-01-18 08:25:11,430]:[sdmx_istat]:[<module>]:[INFO]: Aggiornamento flow 168_757 già presente in db\n",
      "[2022-01-18 08:25:11,431]:[sdmx_istat]:[<module>]:[INFO]: Aggiornamento flow 42_70 già presente in db\n",
      "[2022-01-18 08:25:11,432]:[sdmx_istat]:[<module>]:[INFO]: Aggiornamento flow 169_746 già presente in db\n",
      "[2022-01-18 08:25:11,433]:[sdmx_istat]:[<module>]:[INFO]: Aggiornamento flow 169_745 già presente in db\n",
      "[2022-01-18 08:25:11,434]:[sdmx_istat]:[<module>]:[INFO]: Aggiornamento flow 168_760 già presente in db\n",
      "[2022-01-18 08:25:11,435]:[sdmx_istat]:[<module>]:[INFO]: inserisco riga 7 - 121_331 in db\n",
      "[2022-01-18 08:25:11,446]:[sdmx_istat]:[<module>]:[INFO]: Aggiornamento flow 168_756 già presente in db\n",
      "[2022-01-18 08:25:11,447]:[sdmx_istat]:[<module>]:[INFO]: Aggiornamento flow 167_744 già presente in db\n",
      "[2022-01-18 08:25:11,448]:[sdmx_istat]:[<module>]:[INFO]: Aggiornamento flow 167_742 già presente in db\n",
      "[2022-01-18 08:25:11,449]:[sdmx_istat]:[<module>]:[INFO]: Aggiornamento flow 111_111 già presente in db\n",
      "[2022-01-18 08:25:11,450]:[sdmx_istat]:[<module>]:[INFO]: Aggiornamento flow 123_713 già presente in db\n",
      "[2022-01-18 08:25:11,450]:[sdmx_istat]:[<module>]:[INFO]: Aggiornamento flow 115_333 già presente in db\n"
     ]
    },
    {
     "data": {
      "text/plain": [
       "True"
      ]
     },
     "execution_count": 6,
     "metadata": {},
     "output_type": "execute_result"
    }
   ],
   "source": [
    "\n",
    "######### Scrivo in db i risultati dello scraping\n",
    "    ######### aggiunto controllo per risultati già scritti\n",
    "\n",
    "   \n",
    "n=0\n",
    "for row in info_list:\n",
    "\n",
    "    try:\n",
    "\n",
    "        n=n+1\n",
    "        flow=row['flow']\n",
    "        titolo=row['titolo']\n",
    "        data_aggiornamento=row['data_aggiornamento']\n",
    "        cur=db.cursor()\n",
    "        cur.execute(f'select count(*) from monitor where flow=\"{flow}\" and data_aggiornamento=\"{data_aggiornamento}\"')\n",
    "        res=cur.fetchall()[0][0]\n",
    "\n",
    "        if res==0:\n",
    "            \n",
    "            logger.info(f'inserisco riga {n} - {flow} in db')\n",
    "\n",
    "            Monitor.create(**row)\n",
    "        \n",
    "        else:\n",
    "\n",
    "            logger.info(f'Aggiornamento flow {flow} già presente in db')\n",
    "            \n",
    "    except Exception as e:\n",
    "    \n",
    "        logger.error(e)\n",
    "\n",
    "db.close()"
   ]
  },
  {
   "cell_type": "code",
   "execution_count": 19,
   "metadata": {},
   "outputs": [
    {
     "name": "stdout",
     "output_type": "stream",
     "text": [
      " Il data-set Indicatori  permessi di costruire è stato aggiornato il 14/01/2022 alle 10:12, download completato: False\n",
      " Il data-set Nic - mensili dal 2016 (base 2015) è stato aggiornato il 17/01/2022 alle 10:10, download completato: False\n",
      " Il data-set IPCA a tassazione costante - Dati mensili dal 2002 (base 2015=100) è stato aggiornato il 17/01/2022 alle 10:21, download completato: False\n",
      " Il data-set Ipca - medie annue dal 2001 (base 2015) è stato aggiornato il 17/01/2022 alle 10:23, download completato: False\n",
      " Il data-set IPCA a tassazione costante - Medie annue dal 2002 (base 2015=100) è stato aggiornato il 17/01/2022 alle 10:29, download completato: False\n",
      " Il data-set FOI - Dati mensili dal 2016 è stato aggiornato il 17/01/2022 alle 10:11, download completato: False\n",
      " Il data-set Ipca - mensili dal 2001 (base 2015) è stato aggiornato il 17/01/2022 alle 10:18, download completato: False\n",
      " Il data-set Indicatori  permessi di costruire è stato aggiornato il 14/01/2022 alle 10:12, download completato: False\n",
      " Il data-set Nic - mensili dal 2016 (base 2015) è stato aggiornato il 17/01/2022 alle 10:10, download completato: False\n",
      " Il data-set IPCA a tassazione costante - Dati mensili dal 2002 (base 2015=100) è stato aggiornato il 17/01/2022 alle 10:21, download completato: False\n",
      " Il data-set Ipca - medie annue dal 2001 (base 2015) è stato aggiornato il 17/01/2022 alle 10:23, download completato: False\n",
      " Il data-set IPCA a tassazione costante - Medie annue dal 2002 (base 2015=100) è stato aggiornato il 17/01/2022 alle 10:29, download completato: False\n",
      " Il data-set FOI - Dati mensili dal 2016 è stato aggiornato il 17/01/2022 alle 10:11, download completato: False\n",
      " Il data-set Ipca - mensili dal 2001 (base 2015) è stato aggiornato il 17/01/2022 alle 10:18, download completato: False\n",
      " Il data-set Indicatori  permessi di costruire è stato aggiornato il 14/01/2022 alle 10:12, download completato: False\n",
      " Il data-set Nic - mensili dal 2016 (base 2015) è stato aggiornato il 17/01/2022 alle 10:10, download completato: False\n",
      " Il data-set IPCA a tassazione costante - Dati mensili dal 2002 (base 2015=100) è stato aggiornato il 17/01/2022 alle 10:21, download completato: False\n",
      " Il data-set Ipca - medie annue dal 2001 (base 2015) è stato aggiornato il 17/01/2022 alle 10:23, download completato: False\n",
      " Il data-set IPCA a tassazione costante - Medie annue dal 2002 (base 2015=100) è stato aggiornato il 17/01/2022 alle 10:29, download completato: False\n",
      " Il data-set FOI - Dati mensili dal 2016 è stato aggiornato il 17/01/2022 alle 10:11, download completato: False\n",
      " Il data-set Ipca - mensili dal 2001 (base 2015) è stato aggiornato il 17/01/2022 alle 10:18, download completato: False\n",
      " Il data-set Indicatori  permessi di costruire è stato aggiornato il 14/01/2022 alle 10:12, download completato: False\n",
      " Il data-set Nic - mensili dal 2016 (base 2015) è stato aggiornato il 17/01/2022 alle 10:10, download completato: False\n",
      " Il data-set IPCA a tassazione costante - Dati mensili dal 2002 (base 2015=100) è stato aggiornato il 17/01/2022 alle 10:21, download completato: False\n",
      " Il data-set Ipca - medie annue dal 2001 (base 2015) è stato aggiornato il 17/01/2022 alle 10:23, download completato: False\n",
      " Il data-set IPCA a tassazione costante - Medie annue dal 2002 (base 2015=100) è stato aggiornato il 17/01/2022 alle 10:29, download completato: False\n",
      " Il data-set FOI - Dati mensili dal 2016 è stato aggiornato il 17/01/2022 alle 10:11, download completato: False\n",
      " Il data-set Ipca - mensili dal 2001 (base 2015) è stato aggiornato il 17/01/2022 alle 10:18, download completato: False\n",
      " Il data-set Indicatori  permessi di costruire è stato aggiornato il 14/01/2022 alle 10:12, download completato: False\n"
     ]
    }
   ],
   "source": [
    "rows=Monitor.select()\n",
    "\n",
    "for row in rows:\n",
    "    print(f' Il data-set {row.titolo} è stato aggiornato il {row.data_aggiornamento.split()[0]} alle {row.data_aggiornamento.split()[1]}, download completato: {row.download}')\n"
   ]
  },
  {
   "cell_type": "code",
   "execution_count": 8,
   "metadata": {},
   "outputs": [],
   "source": [
    "rows=Monitor.select()\n",
    "\n",
    "for row in rows:\n",
    "    print(f'  {row.titolo}, download completato: {row.download} {row.volume},{row.note} , ')\n"
   ]
  },
  {
   "cell_type": "code",
   "execution_count": 2,
   "metadata": {},
   "outputs": [],
   "source": [
    "from Common import *\n",
    "from peewee import *\n",
    "from logger import *\n",
    "from models import *  \n",
    "import xml.etree.ElementTree as ET\n",
    "import subprocess\n",
    "import os.path\n",
    "import time\n",
    "######### leggo i risultati dello scraping e seleziono le nuove osservazioni da scaricare\n",
    "    ######### Aggiunto scarico + parsing delle constraint + individuazione livello geografico \n",
    "        ######### aggiunta modifica dei campi Download e Volume post scarico\n",
    "            ###### gestito parametro frequenza in base alle constraint(si provano tutte)\n",
    "                ######## TODO: gestire scarichi multipli in base ai livelli geografici minimi disponibili\n",
    "                                # Al momento scarica al livello geo minimo disponibile\n",
    "                    ###### Aggiunto controllo sulla pre-esistenza del file constraint.xml\n",
    "\n",
    "   \n",
    "\n",
    "cur=db.cursor()\n",
    "cur.execute('select * from monitor where download=False')\n",
    "result=cur.fetchall()\n",
    "db.close()\n",
    "for flow in result:\n",
    "    \n",
    "    flowRef=flow[3]\n",
    "    start=flow[5]\n",
    "    end=flow[6]\n",
    "    data_agg=flow[4]\n"
   ]
  },
  {
   "cell_type": "code",
   "execution_count": 6,
   "metadata": {},
   "outputs": [
    {
     "name": "stdout",
     "output_type": "stream",
     "text": [
      "2003\n",
      "2004\n",
      "2005\n",
      "2006\n",
      "2007\n",
      "2008\n",
      "2009\n",
      "2010\n",
      "2011\n",
      "2012\n",
      "2013\n",
      "2014\n",
      "2015\n",
      "2016\n",
      "2017\n"
     ]
    }
   ],
   "source": [
    "anni=range(start,end)\n",
    "for a in anni:\n",
    "    print(a)"
   ]
  }
 ],
 "metadata": {
  "interpreter": {
   "hash": "71aabe6f1a03ef3ab91ab791759cfee46080b353293c6b2d97a55943f261d539"
  },
  "kernelspec": {
   "display_name": "Python 3.9.10 64-bit (windows store)",
   "name": "python3"
  },
  "language_info": {
   "codemirror_mode": {
    "name": "ipython",
    "version": 3
   },
   "file_extension": ".py",
   "mimetype": "text/x-python",
   "name": "python",
   "nbconvert_exporter": "python",
   "pygments_lexer": "ipython3",
   "version": "3.9.10"
  },
  "orig_nbformat": 4
 },
 "nbformat": 4,
 "nbformat_minor": 2
}
