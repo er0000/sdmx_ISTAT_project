{
 "cells": [
  {
   "cell_type": "code",
   "execution_count": 8,
   "metadata": {},
   "outputs": [
    {
     "name": "stderr",
     "output_type": "stream",
     "text": [
      "\n",
      "\n",
      "====== WebDriver manager ======\n",
      "Current google-chrome version is 97.0.4692\n",
      "Get LATEST chromedriver version for 97.0.4692 google-chrome\n",
      "Trying to download new driver from https://chromedriver.storage.googleapis.com/97.0.4692.71/chromedriver_win32.zip\n",
      "Driver has been saved in cache [C:\\Users\\riccie\\.wdm\\drivers\\chromedriver\\win32\\97.0.4692.71]\n"
     ]
    }
   ],
   "source": [
    "from selenium import webdriver\n",
    "from selenium.webdriver.chrome.service import Service\n",
    "from webdriver_manager.chrome import ChromeDriverManager\n",
    "from selenium.webdriver.common.by import By\n",
    "from selenium.webdriver.support.ui import WebDriverWait\n",
    "from selenium.webdriver.support import expected_conditions as EC\n",
    "\n",
    "\n",
    "s=Service(ChromeDriverManager().install())\n"
   ]
  },
  {
   "cell_type": "code",
   "execution_count": 9,
   "metadata": {},
   "outputs": [],
   "source": [
    "from logger import *    \n",
    "\n",
    "logger = get_logger(path = 'test_log_file.log')\n"
   ]
  },
  {
   "cell_type": "code",
   "execution_count": 10,
   "metadata": {},
   "outputs": [
    {
     "name": "stderr",
     "output_type": "stream",
     "text": [
      "[2022-01-08 17:57:16,957]:[sdmx_aggiornamento]:[<module>]:[INFO]: START\n",
      "[2022-01-08 17:57:16,957]:[sdmx_aggiornamento]:[<module>]:[INFO]: START\n"
     ]
    }
   ],
   "source": [
    "logger.info('START')\n",
    "driver = webdriver.Chrome(service=s)\n",
    "url = 'https://www.istat.it/it/metodi-e-strumenti/web-service-sdmx#Aggiornamentodeidataseterelativequery-2'\n",
    "driver.get(url )\n",
    "\n",
    "try:\n",
    "    element = WebDriverWait(driver, 10).until(\n",
    "        EC.presence_of_element_located((By.ID, \"rsssep\"))\n",
    "    )\n",
    "    page_source = driver.page_source\n",
    "\n",
    "finally:\n",
    "    driver.quit()\n"
   ]
  },
  {
   "cell_type": "code",
   "execution_count": 11,
   "metadata": {},
   "outputs": [],
   "source": [
    "from bs4 import BeautifulSoup\n",
    "import lxml\n",
    "soup = BeautifulSoup(page_source,'html.parser')\n"
   ]
  },
  {
   "cell_type": "code",
   "execution_count": 184,
   "metadata": {},
   "outputs": [
    {
     "name": "stdout",
     "output_type": "stream",
     "text": [
      "______________ box numero 1 _______________\n",
      "{'title': 'Conto trimestrale', 'date': '07/01/2022 10:14', 'start': ['1999'], 'end': ['2021'], 'ID': ['95_42']}\n",
      "______________ box numero 2 _______________\n",
      "{'title': 'Nic - mensili dal 2016 (base 2015)', 'date': '05/01/2022 11:11', 'start': ['2021'], 'end': ['2021'], 'ID': ['167_744']}\n",
      "______________ box numero 3 _______________\n",
      "{'title': 'Ipca - mensili dal 2001 (base 2015)', 'date': '05/01/2022 11:13', 'start': ['2021'], 'end': ['2021'], 'ID': ['168_760']}\n",
      "______________ box numero 4 _______________\n",
      "{'title': 'Istituti di cura  - comuni', 'date': '03/01/2022 08:31', 'start': ['2018'], 'end': ['2019'], 'ID': ['43_994']}\n"
     ]
    }
   ],
   "source": [
    "#Common\n",
    "def Get_box_info(box):\n",
    "    \n",
    "    titolo=box.find(class_='title').text\n",
    "    \n",
    "    data=box.find(class_='date').text\n",
    "    \n",
    "    text=box.find('textarea').text\n",
    "    start=start_regex.findall(text)\n",
    "    end=end_regex.findall(text)\n",
    "    ID=id_regex.findall(text)\n",
    "    \n",
    "    return dict(title=titolo,\n",
    "                date=data,\n",
    "                start=start,\n",
    "                end=end,\n",
    "                ID=ID)\n",
    "\n",
    "\n"
   ]
  },
  {
   "cell_type": "code",
   "execution_count": 200,
   "metadata": {},
   "outputs": [
    {
     "name": "stdout",
     "output_type": "stream",
     "text": [
      "______________ box numero 1 _______________\n",
      "{'flow': 'Conto trimestrale', 'data_aggiornamento': '07/01/2022 10:14', 'periodo_aggiornamento': (['1999'], ['2021']), 'id': ['95_42']}\n"
     ]
    },
    {
     "ename": "TypeError",
     "evalue": "int() argument must be a string, a bytes-like object or a number, not 'list'",
     "output_type": "error",
     "traceback": [
      "\u001b[1;31m---------------------------------------------------------------------------\u001b[0m",
      "\u001b[1;31mTypeError\u001b[0m                                 Traceback (most recent call last)",
      "\u001b[1;32m~\\AppData\\Local\\Temp/ipykernel_10376/2141104270.py\u001b[0m in \u001b[0;36m<module>\u001b[1;34m\u001b[0m\n\u001b[0;32m     23\u001b[0m         \u001b[0mInfo\u001b[0m\u001b[1;33m=\u001b[0m\u001b[0mGet_box_info\u001b[0m\u001b[1;33m(\u001b[0m\u001b[0mbox\u001b[0m\u001b[1;33m)\u001b[0m\u001b[1;33m\u001b[0m\u001b[1;33m\u001b[0m\u001b[0m\n\u001b[0;32m     24\u001b[0m         \u001b[0mprint\u001b[0m\u001b[1;33m(\u001b[0m\u001b[0mInfo\u001b[0m\u001b[1;33m)\u001b[0m\u001b[1;33m\u001b[0m\u001b[1;33m\u001b[0m\u001b[0m\n\u001b[1;32m---> 25\u001b[1;33m         \u001b[0mMonitor\u001b[0m\u001b[1;33m.\u001b[0m\u001b[0mcreate\u001b[0m\u001b[1;33m(\u001b[0m\u001b[1;33m**\u001b[0m\u001b[0mInfo\u001b[0m\u001b[1;33m)\u001b[0m\u001b[1;33m\u001b[0m\u001b[1;33m\u001b[0m\u001b[0m\n\u001b[0m\u001b[0;32m     26\u001b[0m \u001b[1;33m\u001b[0m\u001b[0m\n\u001b[0;32m     27\u001b[0m         \u001b[0mi\u001b[0m\u001b[1;33m=\u001b[0m\u001b[0mi\u001b[0m\u001b[1;33m+\u001b[0m\u001b[1;36m1\u001b[0m\u001b[1;33m\u001b[0m\u001b[1;33m\u001b[0m\u001b[0m\n",
      "\u001b[1;32m~\\AppData\\Local\\Packages\\PythonSoftwareFoundation.Python.3.9_qbz5n2kfra8p0\\LocalCache\\local-packages\\Python39\\site-packages\\peewee.py\u001b[0m in \u001b[0;36mcreate\u001b[1;34m(cls, **query)\u001b[0m\n\u001b[0;32m   6391\u001b[0m     \u001b[1;32mdef\u001b[0m \u001b[0mcreate\u001b[0m\u001b[1;33m(\u001b[0m\u001b[0mcls\u001b[0m\u001b[1;33m,\u001b[0m \u001b[1;33m**\u001b[0m\u001b[0mquery\u001b[0m\u001b[1;33m)\u001b[0m\u001b[1;33m:\u001b[0m\u001b[1;33m\u001b[0m\u001b[1;33m\u001b[0m\u001b[0m\n\u001b[0;32m   6392\u001b[0m         \u001b[0minst\u001b[0m \u001b[1;33m=\u001b[0m \u001b[0mcls\u001b[0m\u001b[1;33m(\u001b[0m\u001b[1;33m**\u001b[0m\u001b[0mquery\u001b[0m\u001b[1;33m)\u001b[0m\u001b[1;33m\u001b[0m\u001b[1;33m\u001b[0m\u001b[0m\n\u001b[1;32m-> 6393\u001b[1;33m         \u001b[0minst\u001b[0m\u001b[1;33m.\u001b[0m\u001b[0msave\u001b[0m\u001b[1;33m(\u001b[0m\u001b[0mforce_insert\u001b[0m\u001b[1;33m=\u001b[0m\u001b[1;32mTrue\u001b[0m\u001b[1;33m)\u001b[0m\u001b[1;33m\u001b[0m\u001b[1;33m\u001b[0m\u001b[0m\n\u001b[0m\u001b[0;32m   6394\u001b[0m         \u001b[1;32mreturn\u001b[0m \u001b[0minst\u001b[0m\u001b[1;33m\u001b[0m\u001b[1;33m\u001b[0m\u001b[0m\n\u001b[0;32m   6395\u001b[0m \u001b[1;33m\u001b[0m\u001b[0m\n",
      "\u001b[1;32m~\\AppData\\Local\\Packages\\PythonSoftwareFoundation.Python.3.9_qbz5n2kfra8p0\\LocalCache\\local-packages\\Python39\\site-packages\\peewee.py\u001b[0m in \u001b[0;36msave\u001b[1;34m(self, force_insert, only)\u001b[0m\n\u001b[0;32m   6601\u001b[0m             \u001b[0mrows\u001b[0m \u001b[1;33m=\u001b[0m \u001b[0mself\u001b[0m\u001b[1;33m.\u001b[0m\u001b[0mupdate\u001b[0m\u001b[1;33m(\u001b[0m\u001b[1;33m**\u001b[0m\u001b[0mfield_dict\u001b[0m\u001b[1;33m)\u001b[0m\u001b[1;33m.\u001b[0m\u001b[0mwhere\u001b[0m\u001b[1;33m(\u001b[0m\u001b[0mself\u001b[0m\u001b[1;33m.\u001b[0m\u001b[0m_pk_expr\u001b[0m\u001b[1;33m(\u001b[0m\u001b[1;33m)\u001b[0m\u001b[1;33m)\u001b[0m\u001b[1;33m.\u001b[0m\u001b[0mexecute\u001b[0m\u001b[1;33m(\u001b[0m\u001b[1;33m)\u001b[0m\u001b[1;33m\u001b[0m\u001b[1;33m\u001b[0m\u001b[0m\n\u001b[0;32m   6602\u001b[0m         \u001b[1;32melif\u001b[0m \u001b[0mpk_field\u001b[0m \u001b[1;32mis\u001b[0m \u001b[1;32mnot\u001b[0m \u001b[1;32mNone\u001b[0m\u001b[1;33m:\u001b[0m\u001b[1;33m\u001b[0m\u001b[1;33m\u001b[0m\u001b[0m\n\u001b[1;32m-> 6603\u001b[1;33m             \u001b[0mpk\u001b[0m \u001b[1;33m=\u001b[0m \u001b[0mself\u001b[0m\u001b[1;33m.\u001b[0m\u001b[0minsert\u001b[0m\u001b[1;33m(\u001b[0m\u001b[1;33m**\u001b[0m\u001b[0mfield_dict\u001b[0m\u001b[1;33m)\u001b[0m\u001b[1;33m.\u001b[0m\u001b[0mexecute\u001b[0m\u001b[1;33m(\u001b[0m\u001b[1;33m)\u001b[0m\u001b[1;33m\u001b[0m\u001b[1;33m\u001b[0m\u001b[0m\n\u001b[0m\u001b[0;32m   6604\u001b[0m             if pk is not None and (self._meta.auto_increment or\n\u001b[0;32m   6605\u001b[0m                                    pk_value is None):\n",
      "\u001b[1;32m~\\AppData\\Local\\Packages\\PythonSoftwareFoundation.Python.3.9_qbz5n2kfra8p0\\LocalCache\\local-packages\\Python39\\site-packages\\peewee.py\u001b[0m in \u001b[0;36minner\u001b[1;34m(self, database, *args, **kwargs)\u001b[0m\n\u001b[0;32m   1909\u001b[0m             raise InterfaceError('Query must be bound to a database in order '\n\u001b[0;32m   1910\u001b[0m                                  'to call \"%s\".' % method.__name__)\n\u001b[1;32m-> 1911\u001b[1;33m         \u001b[1;32mreturn\u001b[0m \u001b[0mmethod\u001b[0m\u001b[1;33m(\u001b[0m\u001b[0mself\u001b[0m\u001b[1;33m,\u001b[0m \u001b[0mdatabase\u001b[0m\u001b[1;33m,\u001b[0m \u001b[1;33m*\u001b[0m\u001b[0margs\u001b[0m\u001b[1;33m,\u001b[0m \u001b[1;33m**\u001b[0m\u001b[0mkwargs\u001b[0m\u001b[1;33m)\u001b[0m\u001b[1;33m\u001b[0m\u001b[1;33m\u001b[0m\u001b[0m\n\u001b[0m\u001b[0;32m   1912\u001b[0m     \u001b[1;32mreturn\u001b[0m \u001b[0minner\u001b[0m\u001b[1;33m\u001b[0m\u001b[1;33m\u001b[0m\u001b[0m\n\u001b[0;32m   1913\u001b[0m \u001b[1;33m\u001b[0m\u001b[0m\n",
      "\u001b[1;32m~\\AppData\\Local\\Packages\\PythonSoftwareFoundation.Python.3.9_qbz5n2kfra8p0\\LocalCache\\local-packages\\Python39\\site-packages\\peewee.py\u001b[0m in \u001b[0;36mexecute\u001b[1;34m(self, database)\u001b[0m\n\u001b[0;32m   1980\u001b[0m     \u001b[1;33m@\u001b[0m\u001b[0mdatabase_required\u001b[0m\u001b[1;33m\u001b[0m\u001b[1;33m\u001b[0m\u001b[0m\n\u001b[0;32m   1981\u001b[0m     \u001b[1;32mdef\u001b[0m \u001b[0mexecute\u001b[0m\u001b[1;33m(\u001b[0m\u001b[0mself\u001b[0m\u001b[1;33m,\u001b[0m \u001b[0mdatabase\u001b[0m\u001b[1;33m)\u001b[0m\u001b[1;33m:\u001b[0m\u001b[1;33m\u001b[0m\u001b[1;33m\u001b[0m\u001b[0m\n\u001b[1;32m-> 1982\u001b[1;33m         \u001b[1;32mreturn\u001b[0m \u001b[0mself\u001b[0m\u001b[1;33m.\u001b[0m\u001b[0m_execute\u001b[0m\u001b[1;33m(\u001b[0m\u001b[0mdatabase\u001b[0m\u001b[1;33m)\u001b[0m\u001b[1;33m\u001b[0m\u001b[1;33m\u001b[0m\u001b[0m\n\u001b[0m\u001b[0;32m   1983\u001b[0m \u001b[1;33m\u001b[0m\u001b[0m\n\u001b[0;32m   1984\u001b[0m     \u001b[1;32mdef\u001b[0m \u001b[0m_execute\u001b[0m\u001b[1;33m(\u001b[0m\u001b[0mself\u001b[0m\u001b[1;33m,\u001b[0m \u001b[0mdatabase\u001b[0m\u001b[1;33m)\u001b[0m\u001b[1;33m:\u001b[0m\u001b[1;33m\u001b[0m\u001b[1;33m\u001b[0m\u001b[0m\n",
      "\u001b[1;32m~\\AppData\\Local\\Packages\\PythonSoftwareFoundation.Python.3.9_qbz5n2kfra8p0\\LocalCache\\local-packages\\Python39\\site-packages\\peewee.py\u001b[0m in \u001b[0;36m_execute\u001b[1;34m(self, database)\u001b[0m\n\u001b[0;32m   2759\u001b[0m             \u001b[0mself\u001b[0m\u001b[1;33m.\u001b[0m\u001b[0m_returning\u001b[0m \u001b[1;33m=\u001b[0m \u001b[1;33m(\u001b[0m\u001b[0mself\u001b[0m\u001b[1;33m.\u001b[0m\u001b[0mtable\u001b[0m\u001b[1;33m.\u001b[0m\u001b[0m_primary_key\u001b[0m\u001b[1;33m,\u001b[0m\u001b[1;33m)\u001b[0m\u001b[1;33m\u001b[0m\u001b[1;33m\u001b[0m\u001b[0m\n\u001b[0;32m   2760\u001b[0m         \u001b[1;32mtry\u001b[0m\u001b[1;33m:\u001b[0m\u001b[1;33m\u001b[0m\u001b[1;33m\u001b[0m\u001b[0m\n\u001b[1;32m-> 2761\u001b[1;33m             \u001b[1;32mreturn\u001b[0m \u001b[0msuper\u001b[0m\u001b[1;33m(\u001b[0m\u001b[0mInsert\u001b[0m\u001b[1;33m,\u001b[0m \u001b[0mself\u001b[0m\u001b[1;33m)\u001b[0m\u001b[1;33m.\u001b[0m\u001b[0m_execute\u001b[0m\u001b[1;33m(\u001b[0m\u001b[0mdatabase\u001b[0m\u001b[1;33m)\u001b[0m\u001b[1;33m\u001b[0m\u001b[1;33m\u001b[0m\u001b[0m\n\u001b[0m\u001b[0;32m   2762\u001b[0m         \u001b[1;32mexcept\u001b[0m \u001b[0mself\u001b[0m\u001b[1;33m.\u001b[0m\u001b[0mDefaultValuesException\u001b[0m\u001b[1;33m:\u001b[0m\u001b[1;33m\u001b[0m\u001b[1;33m\u001b[0m\u001b[0m\n\u001b[0;32m   2763\u001b[0m             \u001b[1;32mpass\u001b[0m\u001b[1;33m\u001b[0m\u001b[1;33m\u001b[0m\u001b[0m\n",
      "\u001b[1;32m~\\AppData\\Local\\Packages\\PythonSoftwareFoundation.Python.3.9_qbz5n2kfra8p0\\LocalCache\\local-packages\\Python39\\site-packages\\peewee.py\u001b[0m in \u001b[0;36m_execute\u001b[1;34m(self, database)\u001b[0m\n\u001b[0;32m   2477\u001b[0m             \u001b[0mcursor\u001b[0m \u001b[1;33m=\u001b[0m \u001b[0mself\u001b[0m\u001b[1;33m.\u001b[0m\u001b[0mexecute_returning\u001b[0m\u001b[1;33m(\u001b[0m\u001b[0mdatabase\u001b[0m\u001b[1;33m)\u001b[0m\u001b[1;33m\u001b[0m\u001b[1;33m\u001b[0m\u001b[0m\n\u001b[0;32m   2478\u001b[0m         \u001b[1;32melse\u001b[0m\u001b[1;33m:\u001b[0m\u001b[1;33m\u001b[0m\u001b[1;33m\u001b[0m\u001b[0m\n\u001b[1;32m-> 2479\u001b[1;33m             \u001b[0mcursor\u001b[0m \u001b[1;33m=\u001b[0m \u001b[0mdatabase\u001b[0m\u001b[1;33m.\u001b[0m\u001b[0mexecute\u001b[0m\u001b[1;33m(\u001b[0m\u001b[0mself\u001b[0m\u001b[1;33m)\u001b[0m\u001b[1;33m\u001b[0m\u001b[1;33m\u001b[0m\u001b[0m\n\u001b[0m\u001b[0;32m   2480\u001b[0m         \u001b[1;32mreturn\u001b[0m \u001b[0mself\u001b[0m\u001b[1;33m.\u001b[0m\u001b[0mhandle_result\u001b[0m\u001b[1;33m(\u001b[0m\u001b[0mdatabase\u001b[0m\u001b[1;33m,\u001b[0m \u001b[0mcursor\u001b[0m\u001b[1;33m)\u001b[0m\u001b[1;33m\u001b[0m\u001b[1;33m\u001b[0m\u001b[0m\n\u001b[0;32m   2481\u001b[0m \u001b[1;33m\u001b[0m\u001b[0m\n",
      "\u001b[1;32m~\\AppData\\Local\\Packages\\PythonSoftwareFoundation.Python.3.9_qbz5n2kfra8p0\\LocalCache\\local-packages\\Python39\\site-packages\\peewee.py\u001b[0m in \u001b[0;36mexecute\u001b[1;34m(self, query, commit, **context_options)\u001b[0m\n\u001b[0;32m   3170\u001b[0m     \u001b[1;32mdef\u001b[0m \u001b[0mexecute\u001b[0m\u001b[1;33m(\u001b[0m\u001b[0mself\u001b[0m\u001b[1;33m,\u001b[0m \u001b[0mquery\u001b[0m\u001b[1;33m,\u001b[0m \u001b[0mcommit\u001b[0m\u001b[1;33m=\u001b[0m\u001b[0mSENTINEL\u001b[0m\u001b[1;33m,\u001b[0m \u001b[1;33m**\u001b[0m\u001b[0mcontext_options\u001b[0m\u001b[1;33m)\u001b[0m\u001b[1;33m:\u001b[0m\u001b[1;33m\u001b[0m\u001b[1;33m\u001b[0m\u001b[0m\n\u001b[0;32m   3171\u001b[0m         \u001b[0mctx\u001b[0m \u001b[1;33m=\u001b[0m \u001b[0mself\u001b[0m\u001b[1;33m.\u001b[0m\u001b[0mget_sql_context\u001b[0m\u001b[1;33m(\u001b[0m\u001b[1;33m**\u001b[0m\u001b[0mcontext_options\u001b[0m\u001b[1;33m)\u001b[0m\u001b[1;33m\u001b[0m\u001b[1;33m\u001b[0m\u001b[0m\n\u001b[1;32m-> 3172\u001b[1;33m         \u001b[0msql\u001b[0m\u001b[1;33m,\u001b[0m \u001b[0mparams\u001b[0m \u001b[1;33m=\u001b[0m \u001b[0mctx\u001b[0m\u001b[1;33m.\u001b[0m\u001b[0msql\u001b[0m\u001b[1;33m(\u001b[0m\u001b[0mquery\u001b[0m\u001b[1;33m)\u001b[0m\u001b[1;33m.\u001b[0m\u001b[0mquery\u001b[0m\u001b[1;33m(\u001b[0m\u001b[1;33m)\u001b[0m\u001b[1;33m\u001b[0m\u001b[1;33m\u001b[0m\u001b[0m\n\u001b[0m\u001b[0;32m   3173\u001b[0m         \u001b[1;32mreturn\u001b[0m \u001b[0mself\u001b[0m\u001b[1;33m.\u001b[0m\u001b[0mexecute_sql\u001b[0m\u001b[1;33m(\u001b[0m\u001b[0msql\u001b[0m\u001b[1;33m,\u001b[0m \u001b[0mparams\u001b[0m\u001b[1;33m,\u001b[0m \u001b[0mcommit\u001b[0m\u001b[1;33m=\u001b[0m\u001b[0mcommit\u001b[0m\u001b[1;33m)\u001b[0m\u001b[1;33m\u001b[0m\u001b[1;33m\u001b[0m\u001b[0m\n\u001b[0;32m   3174\u001b[0m \u001b[1;33m\u001b[0m\u001b[0m\n",
      "\u001b[1;32m~\\AppData\\Local\\Packages\\PythonSoftwareFoundation.Python.3.9_qbz5n2kfra8p0\\LocalCache\\local-packages\\Python39\\site-packages\\peewee.py\u001b[0m in \u001b[0;36msql\u001b[1;34m(self, obj)\u001b[0m\n\u001b[0;32m    612\u001b[0m     \u001b[1;32mdef\u001b[0m \u001b[0msql\u001b[0m\u001b[1;33m(\u001b[0m\u001b[0mself\u001b[0m\u001b[1;33m,\u001b[0m \u001b[0mobj\u001b[0m\u001b[1;33m)\u001b[0m\u001b[1;33m:\u001b[0m\u001b[1;33m\u001b[0m\u001b[1;33m\u001b[0m\u001b[0m\n\u001b[0;32m    613\u001b[0m         \u001b[1;32mif\u001b[0m \u001b[0misinstance\u001b[0m\u001b[1;33m(\u001b[0m\u001b[0mobj\u001b[0m\u001b[1;33m,\u001b[0m \u001b[1;33m(\u001b[0m\u001b[0mNode\u001b[0m\u001b[1;33m,\u001b[0m \u001b[0mContext\u001b[0m\u001b[1;33m)\u001b[0m\u001b[1;33m)\u001b[0m\u001b[1;33m:\u001b[0m\u001b[1;33m\u001b[0m\u001b[1;33m\u001b[0m\u001b[0m\n\u001b[1;32m--> 614\u001b[1;33m             \u001b[1;32mreturn\u001b[0m \u001b[0mobj\u001b[0m\u001b[1;33m.\u001b[0m\u001b[0m__sql__\u001b[0m\u001b[1;33m(\u001b[0m\u001b[0mself\u001b[0m\u001b[1;33m)\u001b[0m\u001b[1;33m\u001b[0m\u001b[1;33m\u001b[0m\u001b[0m\n\u001b[0m\u001b[0;32m    615\u001b[0m         \u001b[1;32melif\u001b[0m \u001b[0mis_model\u001b[0m\u001b[1;33m(\u001b[0m\u001b[0mobj\u001b[0m\u001b[1;33m)\u001b[0m\u001b[1;33m:\u001b[0m\u001b[1;33m\u001b[0m\u001b[1;33m\u001b[0m\u001b[0m\n\u001b[0;32m    616\u001b[0m             \u001b[1;32mreturn\u001b[0m \u001b[0mobj\u001b[0m\u001b[1;33m.\u001b[0m\u001b[0m_meta\u001b[0m\u001b[1;33m.\u001b[0m\u001b[0mtable\u001b[0m\u001b[1;33m.\u001b[0m\u001b[0m__sql__\u001b[0m\u001b[1;33m(\u001b[0m\u001b[0mself\u001b[0m\u001b[1;33m)\u001b[0m\u001b[1;33m\u001b[0m\u001b[1;33m\u001b[0m\u001b[0m\n",
      "\u001b[1;32m~\\AppData\\Local\\Packages\\PythonSoftwareFoundation.Python.3.9_qbz5n2kfra8p0\\LocalCache\\local-packages\\Python39\\site-packages\\peewee.py\u001b[0m in \u001b[0;36m__sql__\u001b[1;34m(self, ctx)\u001b[0m\n\u001b[0;32m   2736\u001b[0m             \u001b[1;32mif\u001b[0m \u001b[0misinstance\u001b[0m\u001b[1;33m(\u001b[0m\u001b[0mself\u001b[0m\u001b[1;33m.\u001b[0m\u001b[0m_insert\u001b[0m\u001b[1;33m,\u001b[0m \u001b[0mMapping\u001b[0m\u001b[1;33m)\u001b[0m \u001b[1;32mand\u001b[0m \u001b[1;32mnot\u001b[0m \u001b[0mself\u001b[0m\u001b[1;33m.\u001b[0m\u001b[0m_columns\u001b[0m\u001b[1;33m:\u001b[0m\u001b[1;33m\u001b[0m\u001b[1;33m\u001b[0m\u001b[0m\n\u001b[0;32m   2737\u001b[0m                 \u001b[1;32mtry\u001b[0m\u001b[1;33m:\u001b[0m\u001b[1;33m\u001b[0m\u001b[1;33m\u001b[0m\u001b[0m\n\u001b[1;32m-> 2738\u001b[1;33m                     \u001b[0mself\u001b[0m\u001b[1;33m.\u001b[0m\u001b[0m_simple_insert\u001b[0m\u001b[1;33m(\u001b[0m\u001b[0mctx\u001b[0m\u001b[1;33m)\u001b[0m\u001b[1;33m\u001b[0m\u001b[1;33m\u001b[0m\u001b[0m\n\u001b[0m\u001b[0;32m   2739\u001b[0m                 \u001b[1;32mexcept\u001b[0m \u001b[0mself\u001b[0m\u001b[1;33m.\u001b[0m\u001b[0mDefaultValuesException\u001b[0m\u001b[1;33m:\u001b[0m\u001b[1;33m\u001b[0m\u001b[1;33m\u001b[0m\u001b[0m\n\u001b[0;32m   2740\u001b[0m                     \u001b[0mself\u001b[0m\u001b[1;33m.\u001b[0m\u001b[0m_default_values\u001b[0m\u001b[1;33m(\u001b[0m\u001b[0mctx\u001b[0m\u001b[1;33m)\u001b[0m\u001b[1;33m\u001b[0m\u001b[1;33m\u001b[0m\u001b[0m\n",
      "\u001b[1;32m~\\AppData\\Local\\Packages\\PythonSoftwareFoundation.Python.3.9_qbz5n2kfra8p0\\LocalCache\\local-packages\\Python39\\site-packages\\peewee.py\u001b[0m in \u001b[0;36m_simple_insert\u001b[1;34m(self, ctx)\u001b[0m\n\u001b[0;32m   2586\u001b[0m         \u001b[1;32mif\u001b[0m \u001b[1;32mnot\u001b[0m \u001b[0mself\u001b[0m\u001b[1;33m.\u001b[0m\u001b[0m_insert\u001b[0m\u001b[1;33m:\u001b[0m\u001b[1;33m\u001b[0m\u001b[1;33m\u001b[0m\u001b[0m\n\u001b[0;32m   2587\u001b[0m             \u001b[1;32mraise\u001b[0m \u001b[0mself\u001b[0m\u001b[1;33m.\u001b[0m\u001b[0mDefaultValuesException\u001b[0m\u001b[1;33m(\u001b[0m\u001b[1;34m'Error: no data to insert.'\u001b[0m\u001b[1;33m)\u001b[0m\u001b[1;33m\u001b[0m\u001b[1;33m\u001b[0m\u001b[0m\n\u001b[1;32m-> 2588\u001b[1;33m         \u001b[1;32mreturn\u001b[0m \u001b[0mself\u001b[0m\u001b[1;33m.\u001b[0m\u001b[0m_generate_insert\u001b[0m\u001b[1;33m(\u001b[0m\u001b[1;33m(\u001b[0m\u001b[0mself\u001b[0m\u001b[1;33m.\u001b[0m\u001b[0m_insert\u001b[0m\u001b[1;33m,\u001b[0m\u001b[1;33m)\u001b[0m\u001b[1;33m,\u001b[0m \u001b[0mctx\u001b[0m\u001b[1;33m)\u001b[0m\u001b[1;33m\u001b[0m\u001b[1;33m\u001b[0m\u001b[0m\n\u001b[0m\u001b[0;32m   2589\u001b[0m \u001b[1;33m\u001b[0m\u001b[0m\n\u001b[0;32m   2590\u001b[0m     \u001b[1;32mdef\u001b[0m \u001b[0mget_default_data\u001b[0m\u001b[1;33m(\u001b[0m\u001b[0mself\u001b[0m\u001b[1;33m)\u001b[0m\u001b[1;33m:\u001b[0m\u001b[1;33m\u001b[0m\u001b[1;33m\u001b[0m\u001b[0m\n",
      "\u001b[1;32m~\\AppData\\Local\\Packages\\PythonSoftwareFoundation.Python.3.9_qbz5n2kfra8p0\\LocalCache\\local-packages\\Python39\\site-packages\\peewee.py\u001b[0m in \u001b[0;36m_generate_insert\u001b[1;34m(self, insert, ctx)\u001b[0m\n\u001b[0;32m   2708\u001b[0m \u001b[1;33m\u001b[0m\u001b[0m\n\u001b[0;32m   2709\u001b[0m         \u001b[1;32mwith\u001b[0m \u001b[0mctx\u001b[0m\u001b[1;33m.\u001b[0m\u001b[0mscope_values\u001b[0m\u001b[1;33m(\u001b[0m\u001b[0msubquery\u001b[0m\u001b[1;33m=\u001b[0m\u001b[1;32mTrue\u001b[0m\u001b[1;33m)\u001b[0m\u001b[1;33m:\u001b[0m\u001b[1;33m\u001b[0m\u001b[1;33m\u001b[0m\u001b[0m\n\u001b[1;32m-> 2710\u001b[1;33m             \u001b[1;32mreturn\u001b[0m \u001b[0mctx\u001b[0m\u001b[1;33m.\u001b[0m\u001b[0msql\u001b[0m\u001b[1;33m(\u001b[0m\u001b[0mCommaNodeList\u001b[0m\u001b[1;33m(\u001b[0m\u001b[0mall_values\u001b[0m\u001b[1;33m)\u001b[0m\u001b[1;33m)\u001b[0m\u001b[1;33m\u001b[0m\u001b[1;33m\u001b[0m\u001b[0m\n\u001b[0m\u001b[0;32m   2711\u001b[0m \u001b[1;33m\u001b[0m\u001b[0m\n\u001b[0;32m   2712\u001b[0m     \u001b[1;32mdef\u001b[0m \u001b[0m_query_insert\u001b[0m\u001b[1;33m(\u001b[0m\u001b[0mself\u001b[0m\u001b[1;33m,\u001b[0m \u001b[0mctx\u001b[0m\u001b[1;33m)\u001b[0m\u001b[1;33m:\u001b[0m\u001b[1;33m\u001b[0m\u001b[1;33m\u001b[0m\u001b[0m\n",
      "\u001b[1;32m~\\AppData\\Local\\Packages\\PythonSoftwareFoundation.Python.3.9_qbz5n2kfra8p0\\LocalCache\\local-packages\\Python39\\site-packages\\peewee.py\u001b[0m in \u001b[0;36msql\u001b[1;34m(self, obj)\u001b[0m\n\u001b[0;32m    612\u001b[0m     \u001b[1;32mdef\u001b[0m \u001b[0msql\u001b[0m\u001b[1;33m(\u001b[0m\u001b[0mself\u001b[0m\u001b[1;33m,\u001b[0m \u001b[0mobj\u001b[0m\u001b[1;33m)\u001b[0m\u001b[1;33m:\u001b[0m\u001b[1;33m\u001b[0m\u001b[1;33m\u001b[0m\u001b[0m\n\u001b[0;32m    613\u001b[0m         \u001b[1;32mif\u001b[0m \u001b[0misinstance\u001b[0m\u001b[1;33m(\u001b[0m\u001b[0mobj\u001b[0m\u001b[1;33m,\u001b[0m \u001b[1;33m(\u001b[0m\u001b[0mNode\u001b[0m\u001b[1;33m,\u001b[0m \u001b[0mContext\u001b[0m\u001b[1;33m)\u001b[0m\u001b[1;33m)\u001b[0m\u001b[1;33m:\u001b[0m\u001b[1;33m\u001b[0m\u001b[1;33m\u001b[0m\u001b[0m\n\u001b[1;32m--> 614\u001b[1;33m             \u001b[1;32mreturn\u001b[0m \u001b[0mobj\u001b[0m\u001b[1;33m.\u001b[0m\u001b[0m__sql__\u001b[0m\u001b[1;33m(\u001b[0m\u001b[0mself\u001b[0m\u001b[1;33m)\u001b[0m\u001b[1;33m\u001b[0m\u001b[1;33m\u001b[0m\u001b[0m\n\u001b[0m\u001b[0;32m    615\u001b[0m         \u001b[1;32melif\u001b[0m \u001b[0mis_model\u001b[0m\u001b[1;33m(\u001b[0m\u001b[0mobj\u001b[0m\u001b[1;33m)\u001b[0m\u001b[1;33m:\u001b[0m\u001b[1;33m\u001b[0m\u001b[1;33m\u001b[0m\u001b[0m\n\u001b[0;32m    616\u001b[0m             \u001b[1;32mreturn\u001b[0m \u001b[0mobj\u001b[0m\u001b[1;33m.\u001b[0m\u001b[0m_meta\u001b[0m\u001b[1;33m.\u001b[0m\u001b[0mtable\u001b[0m\u001b[1;33m.\u001b[0m\u001b[0m__sql__\u001b[0m\u001b[1;33m(\u001b[0m\u001b[0mself\u001b[0m\u001b[1;33m)\u001b[0m\u001b[1;33m\u001b[0m\u001b[1;33m\u001b[0m\u001b[0m\n",
      "\u001b[1;32m~\\AppData\\Local\\Packages\\PythonSoftwareFoundation.Python.3.9_qbz5n2kfra8p0\\LocalCache\\local-packages\\Python39\\site-packages\\peewee.py\u001b[0m in \u001b[0;36m__sql__\u001b[1;34m(self, ctx)\u001b[0m\n\u001b[0;32m   1775\u001b[0m                 \u001b[0mctx\u001b[0m\u001b[1;33m.\u001b[0m\u001b[0msql\u001b[0m\u001b[1;33m(\u001b[0m\u001b[0mself\u001b[0m\u001b[1;33m.\u001b[0m\u001b[0mnodes\u001b[0m\u001b[1;33m[\u001b[0m\u001b[0mi\u001b[0m\u001b[1;33m]\u001b[0m\u001b[1;33m)\u001b[0m\u001b[1;33m\u001b[0m\u001b[1;33m\u001b[0m\u001b[0m\n\u001b[0;32m   1776\u001b[0m                 \u001b[0mctx\u001b[0m\u001b[1;33m.\u001b[0m\u001b[0mliteral\u001b[0m\u001b[1;33m(\u001b[0m\u001b[0mself\u001b[0m\u001b[1;33m.\u001b[0m\u001b[0mglue\u001b[0m\u001b[1;33m)\u001b[0m\u001b[1;33m\u001b[0m\u001b[1;33m\u001b[0m\u001b[0m\n\u001b[1;32m-> 1777\u001b[1;33m             \u001b[0mctx\u001b[0m\u001b[1;33m.\u001b[0m\u001b[0msql\u001b[0m\u001b[1;33m(\u001b[0m\u001b[0mself\u001b[0m\u001b[1;33m.\u001b[0m\u001b[0mnodes\u001b[0m\u001b[1;33m[\u001b[0m\u001b[0mn_nodes\u001b[0m \u001b[1;33m-\u001b[0m \u001b[1;36m1\u001b[0m\u001b[1;33m]\u001b[0m\u001b[1;33m)\u001b[0m\u001b[1;33m\u001b[0m\u001b[1;33m\u001b[0m\u001b[0m\n\u001b[0m\u001b[0;32m   1778\u001b[0m         \u001b[1;32mreturn\u001b[0m \u001b[0mctx\u001b[0m\u001b[1;33m\u001b[0m\u001b[1;33m\u001b[0m\u001b[0m\n\u001b[0;32m   1779\u001b[0m \u001b[1;33m\u001b[0m\u001b[0m\n",
      "\u001b[1;32m~\\AppData\\Local\\Packages\\PythonSoftwareFoundation.Python.3.9_qbz5n2kfra8p0\\LocalCache\\local-packages\\Python39\\site-packages\\peewee.py\u001b[0m in \u001b[0;36msql\u001b[1;34m(self, obj)\u001b[0m\n\u001b[0;32m    612\u001b[0m     \u001b[1;32mdef\u001b[0m \u001b[0msql\u001b[0m\u001b[1;33m(\u001b[0m\u001b[0mself\u001b[0m\u001b[1;33m,\u001b[0m \u001b[0mobj\u001b[0m\u001b[1;33m)\u001b[0m\u001b[1;33m:\u001b[0m\u001b[1;33m\u001b[0m\u001b[1;33m\u001b[0m\u001b[0m\n\u001b[0;32m    613\u001b[0m         \u001b[1;32mif\u001b[0m \u001b[0misinstance\u001b[0m\u001b[1;33m(\u001b[0m\u001b[0mobj\u001b[0m\u001b[1;33m,\u001b[0m \u001b[1;33m(\u001b[0m\u001b[0mNode\u001b[0m\u001b[1;33m,\u001b[0m \u001b[0mContext\u001b[0m\u001b[1;33m)\u001b[0m\u001b[1;33m)\u001b[0m\u001b[1;33m:\u001b[0m\u001b[1;33m\u001b[0m\u001b[1;33m\u001b[0m\u001b[0m\n\u001b[1;32m--> 614\u001b[1;33m             \u001b[1;32mreturn\u001b[0m \u001b[0mobj\u001b[0m\u001b[1;33m.\u001b[0m\u001b[0m__sql__\u001b[0m\u001b[1;33m(\u001b[0m\u001b[0mself\u001b[0m\u001b[1;33m)\u001b[0m\u001b[1;33m\u001b[0m\u001b[1;33m\u001b[0m\u001b[0m\n\u001b[0m\u001b[0;32m    615\u001b[0m         \u001b[1;32melif\u001b[0m \u001b[0mis_model\u001b[0m\u001b[1;33m(\u001b[0m\u001b[0mobj\u001b[0m\u001b[1;33m)\u001b[0m\u001b[1;33m:\u001b[0m\u001b[1;33m\u001b[0m\u001b[1;33m\u001b[0m\u001b[0m\n\u001b[0;32m    616\u001b[0m             \u001b[1;32mreturn\u001b[0m \u001b[0mobj\u001b[0m\u001b[1;33m.\u001b[0m\u001b[0m_meta\u001b[0m\u001b[1;33m.\u001b[0m\u001b[0mtable\u001b[0m\u001b[1;33m.\u001b[0m\u001b[0m__sql__\u001b[0m\u001b[1;33m(\u001b[0m\u001b[0mself\u001b[0m\u001b[1;33m)\u001b[0m\u001b[1;33m\u001b[0m\u001b[1;33m\u001b[0m\u001b[0m\n",
      "\u001b[1;32m~\\AppData\\Local\\Packages\\PythonSoftwareFoundation.Python.3.9_qbz5n2kfra8p0\\LocalCache\\local-packages\\Python39\\site-packages\\peewee.py\u001b[0m in \u001b[0;36m__sql__\u001b[1;34m(self, ctx)\u001b[0m\n\u001b[0;32m   1773\u001b[0m         \u001b[1;32mwith\u001b[0m \u001b[0mctx\u001b[0m\u001b[1;33m(\u001b[0m\u001b[0mparentheses\u001b[0m\u001b[1;33m=\u001b[0m\u001b[0mself\u001b[0m\u001b[1;33m.\u001b[0m\u001b[0mparens\u001b[0m\u001b[1;33m)\u001b[0m\u001b[1;33m:\u001b[0m\u001b[1;33m\u001b[0m\u001b[1;33m\u001b[0m\u001b[0m\n\u001b[0;32m   1774\u001b[0m             \u001b[1;32mfor\u001b[0m \u001b[0mi\u001b[0m \u001b[1;32min\u001b[0m \u001b[0mrange\u001b[0m\u001b[1;33m(\u001b[0m\u001b[0mn_nodes\u001b[0m \u001b[1;33m-\u001b[0m \u001b[1;36m1\u001b[0m\u001b[1;33m)\u001b[0m\u001b[1;33m:\u001b[0m\u001b[1;33m\u001b[0m\u001b[1;33m\u001b[0m\u001b[0m\n\u001b[1;32m-> 1775\u001b[1;33m                 \u001b[0mctx\u001b[0m\u001b[1;33m.\u001b[0m\u001b[0msql\u001b[0m\u001b[1;33m(\u001b[0m\u001b[0mself\u001b[0m\u001b[1;33m.\u001b[0m\u001b[0mnodes\u001b[0m\u001b[1;33m[\u001b[0m\u001b[0mi\u001b[0m\u001b[1;33m]\u001b[0m\u001b[1;33m)\u001b[0m\u001b[1;33m\u001b[0m\u001b[1;33m\u001b[0m\u001b[0m\n\u001b[0m\u001b[0;32m   1776\u001b[0m                 \u001b[0mctx\u001b[0m\u001b[1;33m.\u001b[0m\u001b[0mliteral\u001b[0m\u001b[1;33m(\u001b[0m\u001b[0mself\u001b[0m\u001b[1;33m.\u001b[0m\u001b[0mglue\u001b[0m\u001b[1;33m)\u001b[0m\u001b[1;33m\u001b[0m\u001b[1;33m\u001b[0m\u001b[0m\n\u001b[0;32m   1777\u001b[0m             \u001b[0mctx\u001b[0m\u001b[1;33m.\u001b[0m\u001b[0msql\u001b[0m\u001b[1;33m(\u001b[0m\u001b[0mself\u001b[0m\u001b[1;33m.\u001b[0m\u001b[0mnodes\u001b[0m\u001b[1;33m[\u001b[0m\u001b[0mn_nodes\u001b[0m \u001b[1;33m-\u001b[0m \u001b[1;36m1\u001b[0m\u001b[1;33m]\u001b[0m\u001b[1;33m)\u001b[0m\u001b[1;33m\u001b[0m\u001b[1;33m\u001b[0m\u001b[0m\n",
      "\u001b[1;32m~\\AppData\\Local\\Packages\\PythonSoftwareFoundation.Python.3.9_qbz5n2kfra8p0\\LocalCache\\local-packages\\Python39\\site-packages\\peewee.py\u001b[0m in \u001b[0;36msql\u001b[1;34m(self, obj)\u001b[0m\n\u001b[0;32m    612\u001b[0m     \u001b[1;32mdef\u001b[0m \u001b[0msql\u001b[0m\u001b[1;33m(\u001b[0m\u001b[0mself\u001b[0m\u001b[1;33m,\u001b[0m \u001b[0mobj\u001b[0m\u001b[1;33m)\u001b[0m\u001b[1;33m:\u001b[0m\u001b[1;33m\u001b[0m\u001b[1;33m\u001b[0m\u001b[0m\n\u001b[0;32m    613\u001b[0m         \u001b[1;32mif\u001b[0m \u001b[0misinstance\u001b[0m\u001b[1;33m(\u001b[0m\u001b[0mobj\u001b[0m\u001b[1;33m,\u001b[0m \u001b[1;33m(\u001b[0m\u001b[0mNode\u001b[0m\u001b[1;33m,\u001b[0m \u001b[0mContext\u001b[0m\u001b[1;33m)\u001b[0m\u001b[1;33m)\u001b[0m\u001b[1;33m:\u001b[0m\u001b[1;33m\u001b[0m\u001b[1;33m\u001b[0m\u001b[0m\n\u001b[1;32m--> 614\u001b[1;33m             \u001b[1;32mreturn\u001b[0m \u001b[0mobj\u001b[0m\u001b[1;33m.\u001b[0m\u001b[0m__sql__\u001b[0m\u001b[1;33m(\u001b[0m\u001b[0mself\u001b[0m\u001b[1;33m)\u001b[0m\u001b[1;33m\u001b[0m\u001b[1;33m\u001b[0m\u001b[0m\n\u001b[0m\u001b[0;32m    615\u001b[0m         \u001b[1;32melif\u001b[0m \u001b[0mis_model\u001b[0m\u001b[1;33m(\u001b[0m\u001b[0mobj\u001b[0m\u001b[1;33m)\u001b[0m\u001b[1;33m:\u001b[0m\u001b[1;33m\u001b[0m\u001b[1;33m\u001b[0m\u001b[0m\n\u001b[0;32m    616\u001b[0m             \u001b[1;32mreturn\u001b[0m \u001b[0mobj\u001b[0m\u001b[1;33m.\u001b[0m\u001b[0m_meta\u001b[0m\u001b[1;33m.\u001b[0m\u001b[0mtable\u001b[0m\u001b[1;33m.\u001b[0m\u001b[0m__sql__\u001b[0m\u001b[1;33m(\u001b[0m\u001b[0mself\u001b[0m\u001b[1;33m)\u001b[0m\u001b[1;33m\u001b[0m\u001b[1;33m\u001b[0m\u001b[0m\n",
      "\u001b[1;32m~\\AppData\\Local\\Packages\\PythonSoftwareFoundation.Python.3.9_qbz5n2kfra8p0\\LocalCache\\local-packages\\Python39\\site-packages\\peewee.py\u001b[0m in \u001b[0;36m__sql__\u001b[1;34m(self, ctx)\u001b[0m\n\u001b[0;32m   1381\u001b[0m             \u001b[1;32mreturn\u001b[0m \u001b[0mctx\u001b[0m\u001b[1;33m.\u001b[0m\u001b[0msql\u001b[0m\u001b[1;33m(\u001b[0m\u001b[0mEnclosedNodeList\u001b[0m\u001b[1;33m(\u001b[0m\u001b[0mself\u001b[0m\u001b[1;33m.\u001b[0m\u001b[0mvalues\u001b[0m\u001b[1;33m)\u001b[0m\u001b[1;33m)\u001b[0m\u001b[1;33m\u001b[0m\u001b[1;33m\u001b[0m\u001b[0m\n\u001b[0;32m   1382\u001b[0m \u001b[1;33m\u001b[0m\u001b[0m\n\u001b[1;32m-> 1383\u001b[1;33m         \u001b[1;32mreturn\u001b[0m \u001b[0mctx\u001b[0m\u001b[1;33m.\u001b[0m\u001b[0mvalue\u001b[0m\u001b[1;33m(\u001b[0m\u001b[0mself\u001b[0m\u001b[1;33m.\u001b[0m\u001b[0mvalue\u001b[0m\u001b[1;33m,\u001b[0m \u001b[0mself\u001b[0m\u001b[1;33m.\u001b[0m\u001b[0mconverter\u001b[0m\u001b[1;33m)\u001b[0m\u001b[1;33m\u001b[0m\u001b[1;33m\u001b[0m\u001b[0m\n\u001b[0m\u001b[0;32m   1384\u001b[0m \u001b[1;33m\u001b[0m\u001b[0m\n\u001b[0;32m   1385\u001b[0m \u001b[1;33m\u001b[0m\u001b[0m\n",
      "\u001b[1;32m~\\AppData\\Local\\Packages\\PythonSoftwareFoundation.Python.3.9_qbz5n2kfra8p0\\LocalCache\\local-packages\\Python39\\site-packages\\peewee.py\u001b[0m in \u001b[0;36mvalue\u001b[1;34m(self, value, converter, add_param)\u001b[0m\n\u001b[0;32m    624\u001b[0m     \u001b[1;32mdef\u001b[0m \u001b[0mvalue\u001b[0m\u001b[1;33m(\u001b[0m\u001b[0mself\u001b[0m\u001b[1;33m,\u001b[0m \u001b[0mvalue\u001b[0m\u001b[1;33m,\u001b[0m \u001b[0mconverter\u001b[0m\u001b[1;33m=\u001b[0m\u001b[1;32mNone\u001b[0m\u001b[1;33m,\u001b[0m \u001b[0madd_param\u001b[0m\u001b[1;33m=\u001b[0m\u001b[1;32mTrue\u001b[0m\u001b[1;33m)\u001b[0m\u001b[1;33m:\u001b[0m\u001b[1;33m\u001b[0m\u001b[1;33m\u001b[0m\u001b[0m\n\u001b[0;32m    625\u001b[0m         \u001b[1;32mif\u001b[0m \u001b[0mconverter\u001b[0m\u001b[1;33m:\u001b[0m\u001b[1;33m\u001b[0m\u001b[1;33m\u001b[0m\u001b[0m\n\u001b[1;32m--> 626\u001b[1;33m             \u001b[0mvalue\u001b[0m \u001b[1;33m=\u001b[0m \u001b[0mconverter\u001b[0m\u001b[1;33m(\u001b[0m\u001b[0mvalue\u001b[0m\u001b[1;33m)\u001b[0m\u001b[1;33m\u001b[0m\u001b[1;33m\u001b[0m\u001b[0m\n\u001b[0m\u001b[0;32m    627\u001b[0m         \u001b[1;32melif\u001b[0m \u001b[0mconverter\u001b[0m \u001b[1;32mis\u001b[0m \u001b[1;32mNone\u001b[0m \u001b[1;32mand\u001b[0m \u001b[0mself\u001b[0m\u001b[1;33m.\u001b[0m\u001b[0mstate\u001b[0m\u001b[1;33m.\u001b[0m\u001b[0mconverter\u001b[0m\u001b[1;33m:\u001b[0m\u001b[1;33m\u001b[0m\u001b[1;33m\u001b[0m\u001b[0m\n\u001b[0;32m    628\u001b[0m             \u001b[1;31m# Explicitly check for None so that \"False\" can be used to signify\u001b[0m\u001b[1;33m\u001b[0m\u001b[1;33m\u001b[0m\u001b[0m\n",
      "\u001b[1;32m~\\AppData\\Local\\Packages\\PythonSoftwareFoundation.Python.3.9_qbz5n2kfra8p0\\LocalCache\\local-packages\\Python39\\site-packages\\peewee.py\u001b[0m in \u001b[0;36mdb_value\u001b[1;34m(self, value)\u001b[0m\n\u001b[0;32m   4567\u001b[0m \u001b[1;33m\u001b[0m\u001b[0m\n\u001b[0;32m   4568\u001b[0m     \u001b[1;32mdef\u001b[0m \u001b[0mdb_value\u001b[0m\u001b[1;33m(\u001b[0m\u001b[0mself\u001b[0m\u001b[1;33m,\u001b[0m \u001b[0mvalue\u001b[0m\u001b[1;33m)\u001b[0m\u001b[1;33m:\u001b[0m\u001b[1;33m\u001b[0m\u001b[1;33m\u001b[0m\u001b[0m\n\u001b[1;32m-> 4569\u001b[1;33m         \u001b[1;32mreturn\u001b[0m \u001b[0mvalue\u001b[0m \u001b[1;32mif\u001b[0m \u001b[0mvalue\u001b[0m \u001b[1;32mis\u001b[0m \u001b[1;32mNone\u001b[0m \u001b[1;32melse\u001b[0m \u001b[0mself\u001b[0m\u001b[1;33m.\u001b[0m\u001b[0madapt\u001b[0m\u001b[1;33m(\u001b[0m\u001b[0mvalue\u001b[0m\u001b[1;33m)\u001b[0m\u001b[1;33m\u001b[0m\u001b[1;33m\u001b[0m\u001b[0m\n\u001b[0m\u001b[0;32m   4570\u001b[0m \u001b[1;33m\u001b[0m\u001b[0m\n\u001b[0;32m   4571\u001b[0m     \u001b[1;32mdef\u001b[0m \u001b[0mpython_value\u001b[0m\u001b[1;33m(\u001b[0m\u001b[0mself\u001b[0m\u001b[1;33m,\u001b[0m \u001b[0mvalue\u001b[0m\u001b[1;33m)\u001b[0m\u001b[1;33m:\u001b[0m\u001b[1;33m\u001b[0m\u001b[1;33m\u001b[0m\u001b[0m\n",
      "\u001b[1;32m~\\AppData\\Local\\Packages\\PythonSoftwareFoundation.Python.3.9_qbz5n2kfra8p0\\LocalCache\\local-packages\\Python39\\site-packages\\peewee.py\u001b[0m in \u001b[0;36madapt\u001b[1;34m(self, value)\u001b[0m\n\u001b[0;32m   4627\u001b[0m     \u001b[1;32mdef\u001b[0m \u001b[0madapt\u001b[0m\u001b[1;33m(\u001b[0m\u001b[0mself\u001b[0m\u001b[1;33m,\u001b[0m \u001b[0mvalue\u001b[0m\u001b[1;33m)\u001b[0m\u001b[1;33m:\u001b[0m\u001b[1;33m\u001b[0m\u001b[1;33m\u001b[0m\u001b[0m\n\u001b[0;32m   4628\u001b[0m         \u001b[1;32mtry\u001b[0m\u001b[1;33m:\u001b[0m\u001b[1;33m\u001b[0m\u001b[1;33m\u001b[0m\u001b[0m\n\u001b[1;32m-> 4629\u001b[1;33m             \u001b[1;32mreturn\u001b[0m \u001b[0mint\u001b[0m\u001b[1;33m(\u001b[0m\u001b[0mvalue\u001b[0m\u001b[1;33m)\u001b[0m\u001b[1;33m\u001b[0m\u001b[1;33m\u001b[0m\u001b[0m\n\u001b[0m\u001b[0;32m   4630\u001b[0m         \u001b[1;32mexcept\u001b[0m \u001b[0mValueError\u001b[0m\u001b[1;33m:\u001b[0m\u001b[1;33m\u001b[0m\u001b[1;33m\u001b[0m\u001b[0m\n\u001b[0;32m   4631\u001b[0m             \u001b[1;32mreturn\u001b[0m \u001b[0mvalue\u001b[0m\u001b[1;33m\u001b[0m\u001b[1;33m\u001b[0m\u001b[0m\n",
      "\u001b[1;31mTypeError\u001b[0m: int() argument must be a string, a bytes-like object or a number, not 'list'"
     ]
    }
   ],
   "source": [
    "#Common\n",
    "def Get_box_info(box):\n",
    "    \n",
    "    titolo=box.find(class_='title').text\n",
    "    \n",
    "    data=box.find(class_='date').text\n",
    "    \n",
    "    text=box.find('textarea').text\n",
    "    start=start_regex.findall(text)\n",
    "    end=end_regex.findall(text)\n",
    "    period=start,end\n",
    "    ID=id_regex.findall(text)\n",
    "    \n",
    "    return dict(flow=titolo,\n",
    "                data_aggiornamento=data,\n",
    "                periodo_aggiornamento=period,\n",
    "                id=ID)\n",
    " \n",
    "page=soup.find_all(class_=cl)\n",
    "i=1\n",
    "for box in page:\n",
    "        print('______________ box numero', i, '_______________')\n",
    "        Info=Get_box_info(box)\n",
    "        print(Info)\n",
    "        Monitor.create(**Info)\n",
    "        i=i+1\n"
   ]
  },
  {
   "cell_type": "code",
   "execution_count": 188,
   "metadata": {},
   "outputs": [
    {
     "name": "stderr",
     "output_type": "stream",
     "text": [
      "[2022-01-08 20:22:30,094]:[sdmx_aggiornamento]:[<module>]:[ERROR]: object of type 'NoneType' has no len()\n",
      "[2022-01-08 20:22:30,094]:[sdmx_aggiornamento]:[<module>]:[ERROR]: object of type 'NoneType' has no len()\n",
      "[2022-01-08 20:22:30,100]:[sdmx_aggiornamento]:[<module>]:[INFO]: Identificata 1 pagina di aggiornamenti per un totale di 4 dataset \n",
      "[2022-01-08 20:22:30,100]:[sdmx_aggiornamento]:[<module>]:[INFO]: Identificata 1 pagina di aggiornamenti per un totale di 4 dataset \n"
     ]
    },
    {
     "name": "stdout",
     "output_type": "stream",
     "text": [
      "______________ box numero 1 _______________\n",
      "Conto trimestrale\n",
      "aggiornato il 07/01/2022 10:14\n",
      "info per query ->  ['95_42'] ['1999'] ['2021']\n",
      " \n",
      "______________ box numero 2 _______________\n",
      "Nic - mensili dal 2016 (base 2015)\n",
      "aggiornato il 05/01/2022 11:11\n",
      "info per query ->  ['167_744'] ['2021'] ['2021']\n",
      " \n",
      "______________ box numero 3 _______________\n",
      "Ipca - mensili dal 2001 (base 2015)\n",
      "aggiornato il 05/01/2022 11:13\n",
      "info per query ->  ['168_760'] ['2021'] ['2021']\n",
      " \n",
      "______________ box numero 4 _______________\n",
      "Istituti di cura  - comuni\n",
      "aggiornato il 03/01/2022 08:31\n",
      "info per query ->  ['43_994'] ['2018'] ['2019']\n",
      " \n"
     ]
    }
   ],
   "source": [
    "###aggiunta gestione casistica unica pagina di aggiornamenti\n",
    "try:\n",
    "    l=soup.find(class_='simplePagerNav')\n",
    "    result=[]\n",
    "    ndt=0\n",
    "    len(l)\n",
    "    logger.debug('Casistica multi pagina')\n",
    "    for i in list(range(1, len(l)+1)):\n",
    "        cl='simplePagerPage'+str(i)\n",
    "        page=soup.find_all(class_=cl)\n",
    "        for box in page:\n",
    "                    print('______________ box numero', i, '_______________')\n",
    "                    Info=Get_box_info(box)\n",
    "                    print(Info['title'])\n",
    "                    print('aggiornato il ' + info['date'])\n",
    "                    print('info per query -> ',  info['ID'],  info['start'], info['end'])\n",
    "                    print(' ')\n",
    "                    i=i+1\n",
    "                    ndt=ndt+1 \n",
    "    logger.info(f'Identificate {len(l)} pagine di aggiornamenti per un totale di {len(result)} dataset')\n",
    "except TypeError as e :   \n",
    "    logger.error(e)\n",
    "    logger.debug('Except - casistica unica pagina')\n",
    "    cl='simplePagerPage1'\n",
    "    page=soup.find_all(class_=cl)\n",
    "    i=1\n",
    "    for box in page:\n",
    "        print('______________ box numero', i, '_______________')\n",
    "        Info=Get_box_info(box)\n",
    "        print(Info['title'])\n",
    "        print('aggiornato il ' + Info['date'])\n",
    "        print('info per query -> ',  Info['ID'],  Info['start'], Info['end'])\n",
    "        print(' ')\n",
    "        i=i+1\n",
    "\n",
    "    logger.info(f'Identificata 1 pagina di aggiornamenti per un totale di {len(page)} dataset ')\n",
    "      \n",
    "\n"
   ]
  },
  {
   "cell_type": "code",
   "execution_count": 7,
   "metadata": {},
   "outputs": [
    {
     "name": "stderr",
     "output_type": "stream",
     "text": [
      "[2022-01-07 10:57:22,745]:[sdmx_aggiornamento]:[<module>]:[INFO]: Inserisco info in tabella monitor\n"
     ]
    }
   ],
   "source": [
    "valori={}\n",
    "temp={}\n",
    "keys=['flow','data_aggiornamento','note']\n",
    "lista=[]\n",
    "logger.info('Inserisco info in tabella monitor')\n",
    "for item in result:\n",
    "    for idx, val in enumerate(item):\n",
    "        \n",
    "        temp[keys[idx]]=(val.text)\n",
    "        valori=temp.copy()\n",
    "    lista.append(valori)\n"
   ]
  },
  {
   "cell_type": "code",
   "execution_count": 55,
   "metadata": {},
   "outputs": [],
   "source": [
    "from peewee import *\n",
    "\n",
    "db = SqliteDatabase('monitor_dev.db')\n",
    "\n",
    "import datetime\n",
    "\n",
    "\n",
    "class BaseModel(Model):\n",
    "    class Meta:\n",
    "        database = db\n",
    "\n",
    "\n",
    "class Monitor(BaseModel):\n",
    "    id = BigAutoField(primary_key = True)\n",
    "    data_run = DateTimeField(default=datetime.datetime.now)\n",
    "    flow = TextField(null=True)\n",
    "    aggiornato = BooleanField(default=True)\n",
    "    data_aggiornamento=DateTimeField(formats='%d/%m/%Y %H:%M', null=True, index=True)\n",
    "    download  =  BooleanField(default=False)\n",
    "    #volume= DoubleField(null=True)\n",
    "    note = TextField(null=True)\n",
    "\n",
    "    \n",
    "\n",
    "def initialize_db():\n",
    "    db.connect()\n",
    "    db.create_tables([Monitor], safe = True)\n",
    "    db.close()    \n",
    "\n",
    "    \n",
    "initialize_db()"
   ]
  },
  {
   "cell_type": "code",
   "execution_count": 201,
   "metadata": {},
   "outputs": [
    {
     "name": "stdout",
     "output_type": "stream",
     "text": [
      "Tensione contrattuale\n",
      "Clima di fiducia delle imprese\n",
      "Fiducia dei consumatori\n",
      "Retribuzioni orarie  dei dipendenti del settore privato\n",
      "Retribuzioni contrattuali per settore economico (Ateco)\n",
      "Retribuzioni contrattuali per tipo di contratto\n",
      "Fiducia delle imprese del commercio\n",
      "Fiducia delle imprese servizi\n",
      "Fiducia delle imprese costruzioni\n",
      "Fiducia delle imprese manifatturiere\n",
      "Protesti\n",
      "Ore lavorate - Imprese con almeno 500 dipendenti\n",
      "Sequenza dei conti (milioni di euro)\n",
      "Prodotto interno lordo lato produzione (milioni di euro)\n",
      "Occupazione regolare ed irregolare\n",
      "Produzione e valore aggiunto, Redditi da lavoro, Imposte e contributi alla produzione, Spesa per consumi finali famiglie, Investimenti fissi lordi, Stock di capitale e ammortamenti, Valori pro capite\n",
      "Occupazione regolare e irregolare\n",
      "Posizioni lavorative - Imprese con almeno 500 dipendenti\n",
      "Retribuzioni lorde - Imprese con almeno 500 dipendenti\n",
      "Imprese con almeno 500 dipendenti\n",
      "Tavole  di mortalità\n",
      "Indice della produzione nelle costruzioni\n",
      "Importazioni ed esportazioni per paese e merce Ateco 2007\n",
      "Trasporto aereo\n",
      "Capacità degli esercizi ricettivi e Movimento dei clienti negli esercizi ricettivi\n",
      "Decessi\n",
      "Indicatori  demografici\n",
      "Valore aggiunto, Redditi da lavoro, Spesa per consumi finali (famiglie e PA), Investimenti fissi lordi, Valori pro capite\n",
      "Indice dei nuovi ordinativi e del fatturato dei prodotti industriali - dati mensili\n",
      "Indicatori di bilancio e dati sul personale delle unità istituzionali\n",
      "Spesa  per interventi e  servizi sociali\n",
      "Indici dei costi di costruzione - dati mensili\n",
      "Conto economico delle Aziende sanitarie locali, aziende ospedaliere, aziende ospedaliere universitarie, Policlinici e IRCCS - migliaia di euro\n",
      "Prezzi alla produzione dell'industria\n",
      "Macellazioni\n",
      "Unità istituzionali\n",
      "Tensione contrattuale\n",
      "Clima di fiducia delle imprese\n",
      "Fiducia dei consumatori\n",
      "Retribuzioni orarie  dei dipendenti del settore privato\n",
      "Retribuzioni contrattuali per settore economico (Ateco)\n",
      "Retribuzioni contrattuali per tipo di contratto\n",
      "Fiducia delle imprese del commercio\n",
      "Fiducia delle imprese servizi\n",
      "Fiducia delle imprese costruzioni\n",
      "Fiducia delle imprese manifatturiere\n",
      "Protesti\n",
      "Ore lavorate - Imprese con almeno 500 dipendenti\n",
      "Sequenza dei conti (milioni di euro)\n",
      "Prodotto interno lordo lato produzione (milioni di euro)\n",
      "Occupazione regolare ed irregolare\n",
      "Produzione e valore aggiunto, Redditi da lavoro, Imposte e contributi alla produzione, Spesa per consumi finali famiglie, Investimenti fissi lordi, Stock di capitale e ammortamenti, Valori pro capite\n",
      "Occupazione regolare e irregolare\n",
      "Posizioni lavorative - Imprese con almeno 500 dipendenti\n",
      "Retribuzioni lorde - Imprese con almeno 500 dipendenti\n",
      "Imprese con almeno 500 dipendenti\n",
      "Tavole  di mortalità\n",
      "Indice della produzione nelle costruzioni\n",
      "Importazioni ed esportazioni per paese e merce Ateco 2007\n",
      "Trasporto aereo\n",
      "Capacità degli esercizi ricettivi e Movimento dei clienti negli esercizi ricettivi\n",
      "Decessi\n",
      "Indicatori  demografici\n",
      "Valore aggiunto, Redditi da lavoro, Spesa per consumi finali (famiglie e PA), Investimenti fissi lordi, Valori pro capite\n",
      "Indice dei nuovi ordinativi e del fatturato dei prodotti industriali - dati mensili\n",
      "Indicatori di bilancio e dati sul personale delle unità istituzionali\n",
      "Spesa  per interventi e  servizi sociali\n",
      "Indici dei costi di costruzione - dati mensili\n",
      "Conto economico delle Aziende sanitarie locali, aziende ospedaliere, aziende ospedaliere universitarie, Policlinici e IRCCS - migliaia di euro\n",
      "Prezzi alla produzione dell'industria\n",
      "Macellazioni\n",
      "Unità istituzionali\n",
      "Tensione contrattuale\n",
      "Clima di fiducia delle imprese\n",
      "Fiducia dei consumatori\n",
      "Retribuzioni orarie  dei dipendenti del settore privato\n",
      "Retribuzioni contrattuali per settore economico (Ateco)\n",
      "Retribuzioni contrattuali per tipo di contratto\n",
      "Fiducia delle imprese del commercio\n",
      "Fiducia delle imprese servizi\n",
      "Fiducia delle imprese costruzioni\n",
      "Fiducia delle imprese manifatturiere\n",
      "Protesti\n",
      "Ore lavorate - Imprese con almeno 500 dipendenti\n",
      "Sequenza dei conti (milioni di euro)\n",
      "Prodotto interno lordo lato produzione (milioni di euro)\n",
      "Occupazione regolare ed irregolare\n",
      "Produzione e valore aggiunto, Redditi da lavoro, Imposte e contributi alla produzione, Spesa per consumi finali famiglie, Investimenti fissi lordi, Stock di capitale e ammortamenti, Valori pro capite\n",
      "Occupazione regolare e irregolare\n",
      "Posizioni lavorative - Imprese con almeno 500 dipendenti\n",
      "Retribuzioni lorde - Imprese con almeno 500 dipendenti\n",
      "Imprese con almeno 500 dipendenti\n",
      "Tavole  di mortalità\n",
      "Indice della produzione nelle costruzioni\n",
      "Importazioni ed esportazioni per paese e merce Ateco 2007\n",
      "Trasporto aereo\n",
      "Capacità degli esercizi ricettivi e Movimento dei clienti negli esercizi ricettivi\n",
      "Decessi\n",
      "Indicatori  demografici\n",
      "Valore aggiunto, Redditi da lavoro, Spesa per consumi finali (famiglie e PA), Investimenti fissi lordi, Valori pro capite\n",
      "Indice dei nuovi ordinativi e del fatturato dei prodotti industriali - dati mensili\n",
      "Indicatori di bilancio e dati sul personale delle unità istituzionali\n",
      "Spesa  per interventi e  servizi sociali\n",
      "Indici dei costi di costruzione - dati mensili\n",
      "Conto economico delle Aziende sanitarie locali, aziende ospedaliere, aziende ospedaliere universitarie, Policlinici e IRCCS - migliaia di euro\n",
      "Prezzi alla produzione dell'industria\n",
      "Macellazioni\n",
      "Unità istituzionali\n",
      "Tensione contrattuale\n",
      "Clima di fiducia delle imprese\n",
      "Fiducia dei consumatori\n",
      "Retribuzioni orarie  dei dipendenti del settore privato\n",
      "Retribuzioni contrattuali per settore economico (Ateco)\n",
      "Retribuzioni contrattuali per tipo di contratto\n",
      "Fiducia delle imprese del commercio\n",
      "Fiducia delle imprese servizi\n",
      "Fiducia delle imprese costruzioni\n",
      "Fiducia delle imprese manifatturiere\n",
      "Protesti\n",
      "Ore lavorate - Imprese con almeno 500 dipendenti\n",
      "Sequenza dei conti (milioni di euro)\n",
      "Prodotto interno lordo lato produzione (milioni di euro)\n",
      "Occupazione regolare ed irregolare\n",
      "Produzione e valore aggiunto, Redditi da lavoro, Imposte e contributi alla produzione, Spesa per consumi finali famiglie, Investimenti fissi lordi, Stock di capitale e ammortamenti, Valori pro capite\n",
      "Occupazione regolare e irregolare\n",
      "Posizioni lavorative - Imprese con almeno 500 dipendenti\n",
      "Retribuzioni lorde - Imprese con almeno 500 dipendenti\n",
      "Imprese con almeno 500 dipendenti\n",
      "Tavole  di mortalità\n",
      "Indice della produzione nelle costruzioni\n",
      "Importazioni ed esportazioni per paese e merce Ateco 2007\n",
      "Trasporto aereo\n",
      "Capacità degli esercizi ricettivi e Movimento dei clienti negli esercizi ricettivi\n",
      "Decessi\n",
      "Indicatori  demografici\n",
      "Valore aggiunto, Redditi da lavoro, Spesa per consumi finali (famiglie e PA), Investimenti fissi lordi, Valori pro capite\n",
      "Indice dei nuovi ordinativi e del fatturato dei prodotti industriali - dati mensili\n",
      "Indicatori di bilancio e dati sul personale delle unità istituzionali\n",
      "Spesa  per interventi e  servizi sociali\n",
      "Indici dei costi di costruzione - dati mensili\n",
      "Conto economico delle Aziende sanitarie locali, aziende ospedaliere, aziende ospedaliere universitarie, Policlinici e IRCCS - migliaia di euro\n",
      "Prezzi alla produzione dell'industria\n",
      "Macellazioni\n",
      "Unità istituzionali\n",
      "Tensione contrattuale\n",
      "Clima di fiducia delle imprese\n",
      "Fiducia dei consumatori\n",
      "Retribuzioni orarie  dei dipendenti del settore privato\n",
      "Retribuzioni contrattuali per settore economico (Ateco)\n",
      "Retribuzioni contrattuali per tipo di contratto\n",
      "Fiducia delle imprese del commercio\n",
      "Fiducia delle imprese servizi\n",
      "Fiducia delle imprese costruzioni\n",
      "Fiducia delle imprese manifatturiere\n",
      "Protesti\n",
      "Ore lavorate - Imprese con almeno 500 dipendenti\n",
      "Sequenza dei conti (milioni di euro)\n",
      "Prodotto interno lordo lato produzione (milioni di euro)\n",
      "Occupazione regolare ed irregolare\n",
      "Produzione e valore aggiunto, Redditi da lavoro, Imposte e contributi alla produzione, Spesa per consumi finali famiglie, Investimenti fissi lordi, Stock di capitale e ammortamenti, Valori pro capite\n",
      "Occupazione regolare e irregolare\n",
      "Posizioni lavorative - Imprese con almeno 500 dipendenti\n",
      "Retribuzioni lorde - Imprese con almeno 500 dipendenti\n",
      "Imprese con almeno 500 dipendenti\n",
      "Tavole  di mortalità\n",
      "Indice della produzione nelle costruzioni\n",
      "Importazioni ed esportazioni per paese e merce Ateco 2007\n",
      "Trasporto aereo\n",
      "Capacità degli esercizi ricettivi e Movimento dei clienti negli esercizi ricettivi\n",
      "Decessi\n",
      "Indicatori  demografici\n",
      "Valore aggiunto, Redditi da lavoro, Spesa per consumi finali (famiglie e PA), Investimenti fissi lordi, Valori pro capite\n",
      "Indice dei nuovi ordinativi e del fatturato dei prodotti industriali - dati mensili\n",
      "Indicatori di bilancio e dati sul personale delle unità istituzionali\n",
      "Spesa  per interventi e  servizi sociali\n",
      "Indici dei costi di costruzione - dati mensili\n",
      "Conto economico delle Aziende sanitarie locali, aziende ospedaliere, aziende ospedaliere universitarie, Policlinici e IRCCS - migliaia di euro\n",
      "Prezzi alla produzione dell'industria\n",
      "Macellazioni\n",
      "Unità istituzionali\n",
      "Tensione contrattuale\n",
      "Clima di fiducia delle imprese\n",
      "Fiducia dei consumatori\n",
      "Retribuzioni orarie  dei dipendenti del settore privato\n",
      "Retribuzioni contrattuali per settore economico (Ateco)\n",
      "Retribuzioni contrattuali per tipo di contratto\n",
      "Fiducia delle imprese del commercio\n",
      "Fiducia delle imprese servizi\n",
      "Fiducia delle imprese costruzioni\n",
      "Fiducia delle imprese manifatturiere\n",
      "Protesti\n",
      "Ore lavorate - Imprese con almeno 500 dipendenti\n",
      "Sequenza dei conti (milioni di euro)\n",
      "Prodotto interno lordo lato produzione (milioni di euro)\n",
      "Occupazione regolare ed irregolare\n",
      "Produzione e valore aggiunto, Redditi da lavoro, Imposte e contributi alla produzione, Spesa per consumi finali famiglie, Investimenti fissi lordi, Stock di capitale e ammortamenti, Valori pro capite\n",
      "Occupazione regolare e irregolare\n",
      "Posizioni lavorative - Imprese con almeno 500 dipendenti\n",
      "Retribuzioni lorde - Imprese con almeno 500 dipendenti\n",
      "Imprese con almeno 500 dipendenti\n",
      "Tavole  di mortalità\n",
      "Indice della produzione nelle costruzioni\n",
      "Importazioni ed esportazioni per paese e merce Ateco 2007\n",
      "Trasporto aereo\n",
      "Capacità degli esercizi ricettivi e Movimento dei clienti negli esercizi ricettivi\n",
      "Decessi\n",
      "Indicatori  demografici\n",
      "Valore aggiunto, Redditi da lavoro, Spesa per consumi finali (famiglie e PA), Investimenti fissi lordi, Valori pro capite\n",
      "Indice dei nuovi ordinativi e del fatturato dei prodotti industriali - dati mensili\n",
      "Indicatori di bilancio e dati sul personale delle unità istituzionali\n",
      "Spesa  per interventi e  servizi sociali\n",
      "Indici dei costi di costruzione - dati mensili\n",
      "Conto economico delle Aziende sanitarie locali, aziende ospedaliere, aziende ospedaliere universitarie, Policlinici e IRCCS - migliaia di euro\n",
      "Prezzi alla produzione dell'industria\n",
      "Macellazioni\n",
      "Unità istituzionali\n",
      "Tensione contrattuale\n",
      "Clima di fiducia delle imprese\n",
      "Fiducia dei consumatori\n",
      "Retribuzioni orarie  dei dipendenti del settore privato\n",
      "Retribuzioni contrattuali per settore economico (Ateco)\n",
      "Retribuzioni contrattuali per tipo di contratto\n",
      "Fiducia delle imprese del commercio\n",
      "Fiducia delle imprese servizi\n",
      "Fiducia delle imprese costruzioni\n",
      "Fiducia delle imprese manifatturiere\n",
      "Protesti\n",
      "Ore lavorate - Imprese con almeno 500 dipendenti\n",
      "Sequenza dei conti (milioni di euro)\n",
      "Prodotto interno lordo lato produzione (milioni di euro)\n",
      "Occupazione regolare ed irregolare\n",
      "Produzione e valore aggiunto, Redditi da lavoro, Imposte e contributi alla produzione, Spesa per consumi finali famiglie, Investimenti fissi lordi, Stock di capitale e ammortamenti, Valori pro capite\n",
      "Occupazione regolare e irregolare\n",
      "Posizioni lavorative - Imprese con almeno 500 dipendenti\n",
      "Retribuzioni lorde - Imprese con almeno 500 dipendenti\n",
      "Imprese con almeno 500 dipendenti\n",
      "Tavole  di mortalità\n",
      "Indice della produzione nelle costruzioni\n",
      "Importazioni ed esportazioni per paese e merce Ateco 2007\n",
      "Trasporto aereo\n",
      "Capacità degli esercizi ricettivi e Movimento dei clienti negli esercizi ricettivi\n",
      "Decessi\n",
      "Indicatori  demografici\n",
      "Valore aggiunto, Redditi da lavoro, Spesa per consumi finali (famiglie e PA), Investimenti fissi lordi, Valori pro capite\n",
      "Indice dei nuovi ordinativi e del fatturato dei prodotti industriali - dati mensili\n",
      "Indicatori di bilancio e dati sul personale delle unità istituzionali\n",
      "Spesa  per interventi e  servizi sociali\n",
      "Indici dei costi di costruzione - dati mensili\n",
      "Conto economico delle Aziende sanitarie locali, aziende ospedaliere, aziende ospedaliere universitarie, Policlinici e IRCCS - migliaia di euro\n",
      "Prezzi alla produzione dell'industria\n",
      "Macellazioni\n",
      "Unità istituzionali\n"
     ]
    }
   ],
   "source": [
    "for row in rows:\n",
    "    print(row.flow)"
   ]
  },
  {
   "cell_type": "code",
   "execution_count": 10,
   "metadata": {},
   "outputs": [],
   "source": [
    "n=0\n",
    "for item in lista:\n",
    "    try:\n",
    "        n=n+1\n",
    "        logger.info(f'inserisco riga {n}')\n",
    "        Monitor.create(**item)\n",
    "            \n",
    "    except Exception as e:\n",
    "\n",
    "        logger.error(e)\n"
   ]
  },
  {
   "cell_type": "code",
   "execution_count": 3,
   "metadata": {},
   "outputs": [
    {
     "ename": "NameError",
     "evalue": "name 'db' is not defined",
     "output_type": "error",
     "traceback": [
      "\u001b[1;31m---------------------------------------------------------------------------\u001b[0m",
      "\u001b[1;31mNameError\u001b[0m                                 Traceback (most recent call last)",
      "\u001b[1;32m~\\AppData\\Local\\Temp/ipykernel_3912/1076030165.py\u001b[0m in \u001b[0;36m<module>\u001b[1;34m\u001b[0m\n\u001b[1;32m----> 1\u001b[1;33m \u001b[0mdb\u001b[0m\u001b[1;33m.\u001b[0m\u001b[0mget_tables\u001b[0m\u001b[1;33m(\u001b[0m\u001b[1;33m)\u001b[0m\u001b[1;33m\u001b[0m\u001b[1;33m\u001b[0m\u001b[0m\n\u001b[0m",
      "\u001b[1;31mNameError\u001b[0m: name 'db' is not defined"
     ]
    }
   ],
   "source": [
    "db.get_tables()\n"
   ]
  },
  {
   "cell_type": "code",
   "execution_count": 2,
   "metadata": {},
   "outputs": [
    {
     "ename": "NameError",
     "evalue": "name 'Monitor' is not defined",
     "output_type": "error",
     "traceback": [
      "\u001b[1;31m---------------------------------------------------------------------------\u001b[0m",
      "\u001b[1;31mNameError\u001b[0m                                 Traceback (most recent call last)",
      "\u001b[1;32m~\\AppData\\Local\\Temp/ipykernel_3912/55730271.py\u001b[0m in \u001b[0;36m<module>\u001b[1;34m\u001b[0m\n\u001b[1;32m----> 1\u001b[1;33m \u001b[0mrows\u001b[0m\u001b[1;33m=\u001b[0m\u001b[0mMonitor\u001b[0m\u001b[1;33m.\u001b[0m\u001b[0mselect\u001b[0m\u001b[1;33m(\u001b[0m\u001b[1;33m)\u001b[0m\u001b[1;33m\u001b[0m\u001b[1;33m\u001b[0m\u001b[0m\n\u001b[0m\u001b[0;32m      2\u001b[0m \u001b[1;32mfor\u001b[0m \u001b[0mrow\u001b[0m \u001b[1;32min\u001b[0m \u001b[0mrows\u001b[0m\u001b[1;33m:\u001b[0m\u001b[1;33m\u001b[0m\u001b[1;33m\u001b[0m\u001b[0m\n\u001b[0;32m      3\u001b[0m     \u001b[0mprint\u001b[0m\u001b[1;33m(\u001b[0m\u001b[1;34mf' Il data-set {row.flow} è stato aggiornato il {row.data_aggiornamento.split()[0]} alle {row.data_aggiornamento.split()[1]}'\u001b[0m\u001b[1;33m)\u001b[0m\u001b[1;33m\u001b[0m\u001b[1;33m\u001b[0m\u001b[0m\n",
      "\u001b[1;31mNameError\u001b[0m: name 'Monitor' is not defined"
     ]
    }
   ],
   "source": [
    "\n",
    "rows=Monitor.select()\n",
    "for row in rows:\n",
    "    print(f' Il data-set {row.flow} è stato aggiornato il {row.data_aggiornamento.split()[0]} alle {row.data_aggiornamento.split()[1]}')"
   ]
  },
  {
   "cell_type": "code",
   "execution_count": 137,
   "metadata": {},
   "outputs": [
    {
     "ename": "TypeError",
     "evalue": "string indices must be integers",
     "output_type": "error",
     "traceback": [
      "\u001b[1;31m---------------------------------------------------------------------------\u001b[0m",
      "\u001b[1;31mTypeError\u001b[0m                                 Traceback (most recent call last)",
      "\u001b[1;32m~\\AppData\\Local\\Temp/ipykernel_18856/3356012798.py\u001b[0m in \u001b[0;36m<module>\u001b[1;34m\u001b[0m\n\u001b[0;32m     16\u001b[0m \u001b[1;32mfor\u001b[0m \u001b[0mi\u001b[0m \u001b[1;32min\u001b[0m \u001b[0mdata\u001b[0m\u001b[1;33m[\u001b[0m\u001b[1;34m'item'\u001b[0m\u001b[1;33m]\u001b[0m\u001b[1;33m:\u001b[0m\u001b[1;33m\u001b[0m\u001b[1;33m\u001b[0m\u001b[0m\n\u001b[0;32m     17\u001b[0m     \u001b[1;32mfor\u001b[0m \u001b[0mj\u001b[0m \u001b[1;32min\u001b[0m \u001b[0mi\u001b[0m\u001b[1;33m:\u001b[0m\u001b[1;33m\u001b[0m\u001b[1;33m\u001b[0m\u001b[0m\n\u001b[1;32m---> 18\u001b[1;33m         \u001b[0mprint\u001b[0m\u001b[1;33m(\u001b[0m\u001b[0mj\u001b[0m\u001b[1;33m[\u001b[0m\u001b[1;34m'name'\u001b[0m\u001b[1;33m]\u001b[0m\u001b[1;33m)\u001b[0m\u001b[1;33m\u001b[0m\u001b[1;33m\u001b[0m\u001b[0m\n\u001b[0m\u001b[0;32m     19\u001b[0m \u001b[1;33m\u001b[0m\u001b[0m\n\u001b[0;32m     20\u001b[0m \u001b[1;31m# Closing file\u001b[0m\u001b[1;33m\u001b[0m\u001b[1;33m\u001b[0m\u001b[0m\n",
      "\u001b[1;31mTypeError\u001b[0m: string indices must be integers"
     ]
    }
   ],
   "source": [
    "\n",
    "# Python program to read\n",
    "# json file\n",
    " \n",
    " \n",
    "import json\n",
    " \n",
    "# Opening JSON file\n",
    "f = open('collection.json')\n",
    " \n",
    "# returns JSON object as\n",
    "# a dictionary\n",
    "data = json.load(f)\n",
    " \n",
    "# Iterating through the json\n",
    "# list\n",
    "for i in data['item']:\n",
    "    for j in i:\n",
    "        print(j['name'])\n",
    " \n",
    "# Closing file\n",
    "f.close()    \n"
   ]
  },
  {
   "cell_type": "code",
   "execution_count": 13,
   "metadata": {},
   "outputs": [
    {
     "data": {
      "text/plain": [
       "(['2000'], ['2021'], ['111_263'])"
      ]
     },
     "execution_count": 13,
     "metadata": {},
     "output_type": "execute_result"
    }
   ],
   "source": [
    "######################## REGEX ##############################\n",
    "import re\n",
    "rows=Monitor.select()\n",
    "start_regex=re.compile('(?<=<query:StartTime>)(.*)(?=</query:StartTime>)')\n",
    "end_regex=re.compile('(?<=<query:EndTime>)(.*)(?=</query:EndTime>)')\n",
    "id_regex=re.compile('(?<=<ID>)(.*)(?=</ID>)')\n",
    "start=start_regex.findall(rows[45].note)\n",
    "end=end_regex.findall(rows[45].note)\n",
    "ID=id_regex.findall(rows[45].note)\n",
    "\n",
    "start,end,ID"
   ]
  },
  {
   "cell_type": "code",
   "execution_count": 2,
   "metadata": {},
   "outputs": [
    {
     "name": "stderr",
     "output_type": "stream",
     "text": [
      "C:\\Users\\riccie\\AppData\\Local\\Packages\\PythonSoftwareFoundation.Python.3.9_qbz5n2kfra8p0\\LocalCache\\local-packages\\Python39\\site-packages\\pandasdmx\\remote.py:11: RuntimeWarning: optional dependency requests_cache is not installed; cache options to Session() have no effect\n",
      "  warn(\n"
     ]
    }
   ],
   "source": [
    "############### PANDAS\n",
    "import pandasdmx as sdmx\n",
    "\n",
    "ISTAT = sdmx.Request('ISTAT')\n",
    "\n",
    "flow_msg = ISTAT.dataflow()\n"
   ]
  },
  {
   "cell_type": "code",
   "execution_count": 15,
   "metadata": {},
   "outputs": [
    {
     "name": "stdout",
     "output_type": "stream",
     "text": [
      "DictLike([('22_289', <DataflowDefinition IT1:22_289(1.4): Resident population  on 1st January>)])\n"
     ]
    }
   ],
   "source": [
    "dataflows=sdmx.to_pandas(flow_msg.dataflow)\n",
    "dataflows[dataflows.str.contains('pop', case=False)] #### search by string name\n",
    "\n",
    "popres_msg = ISTAT.dataflow('22_289')\n",
    "print(popres_msg.dataflow)\n"
   ]
  },
  {
   "cell_type": "code",
   "execution_count": 7,
   "metadata": {},
   "outputs": [],
   "source": [
    "popres_msg = ISTAT.dataflow('22_315')\n"
   ]
  },
  {
   "cell_type": "code",
   "execution_count": 8,
   "metadata": {},
   "outputs": [
    {
     "data": {
      "text/plain": [
       "<pandasdmx.StructureMessage>\n",
       "  <Header>\n",
       "    id: 'IDREF372'\n",
       "    prepared: '2022-01-10T14:56:08.837279+01:00'\n",
       "    receiver: <Agency Unknown>\n",
       "    sender: <Agency Unknown>\n",
       "    source: \n",
       "    test: False\n",
       "  response: <Response [200]>\n",
       "  Codelist (9): CL_BASE_YEAR CL_FLAG CL_FREQ CL_ITTER107 CL_OBS_CONF CL...\n",
       "  ConceptScheme (2): CROSS_DOMAIN VARIAB_ALL\n",
       "  DataflowDefinition (1): 22_315\n",
       "  DataStructureDefinition (1): DCIS_POPORESBIL1"
      ]
     },
     "execution_count": 8,
     "metadata": {},
     "output_type": "execute_result"
    }
   ],
   "source": [
    "ISTAT.datastructure('DCIS_POPORESBIL1')"
   ]
  },
  {
   "cell_type": "code",
   "execution_count": null,
   "metadata": {},
   "outputs": [],
   "source": [
    "measures=popres_msg.structure.DCIS_POPRES1.measures\n",
    "attr=popres_msg.structure.DCIS_POPRES1.attributes\n",
    "dim=popres_msg.structure.DCIS_POPRES1.dimensions\n",
    "FREQ=dim.components[0]\n",
    "popres_msg.codelist.CL_SEXISTAT1.items\n",
    "comp=attr.components[8]\n",
    "popres_msg.concept_scheme\n",
    "\n",
    "popres_msg"
   ]
  },
  {
   "cell_type": "code",
   "execution_count": null,
   "metadata": {},
   "outputs": [],
   "source": [
    "dsd=popres_msg.structure.DCIS_POPRES1\n",
    "dsd.attributes\n",
    "local=dsd.dimensions.get('FREQ').local_representation\n",
    "\n",
    "popres_msg.codelist.CL_ETA1.items['Y64']\n",
    "\n",
    "popres_msg.constraint.CONSTR_22_289\n"
   ]
  },
  {
   "cell_type": "code",
   "execution_count": 68,
   "metadata": {},
   "outputs": [
    {
     "data": {
      "text/plain": [
       "dict_keys([<Dimension ITTER107>, <Dimension TIPO_INDDEM>, <Dimension SESSO>, <Dimension ETA>, <Dimension STATO_CIV>, <Dimension FREQ>])"
      ]
     },
     "execution_count": 68,
     "metadata": {},
     "output_type": "execute_result"
    }
   ],
   "source": [
    "###CONSTRAINT\n",
    "\n",
    "msg=ISTAT.dataflow('22_289')\n",
    "msg.constraint.CONSTR_22_289.data_content_region[0].member.keys()\n"
   ]
  },
  {
   "cell_type": "code",
   "execution_count": 4,
   "metadata": {},
   "outputs": [],
   "source": [
    "msg=ISTAT.dataflow('101_959')\n",
    "#msg.constraint.CONSTR_22_289.data_content_region[0].member.keys()\n"
   ]
  },
  {
   "cell_type": "code",
   "execution_count": 18,
   "metadata": {},
   "outputs": [
    {
     "data": {
      "text/plain": [
       "<pandasdmx.StructureMessage>\n",
       "  <Header>\n",
       "    id: 'IDREF1665'\n",
       "    prepared: '2022-01-11T11:31:27.895885+01:00'\n",
       "    receiver: <Agency Unknown>\n",
       "    sender: <Agency Unknown>\n",
       "    source: \n",
       "    test: False\n",
       "  response: <Response [200]>\n",
       "  Categorisation (1): 101_959@IT1@10@ISTAT_DW@10@101\n",
       "  CategoryScheme (1): ISTAT_DW\n",
       "  Codelist (11): CL_BASE_YEAR CL_FLAG CL_FREQ CL_ITTER107 CL_NUMEROSITA...\n",
       "  ConceptScheme (2): CROSS_DOMAIN VARIAB_ALL\n",
       "  DataflowDefinition (1): 101_959\n",
       "  DataStructureDefinition (1): DCSP_LATTE"
      ]
     },
     "execution_count": 18,
     "metadata": {},
     "output_type": "execute_result"
    }
   ],
   "source": [
    "ISTAT.dataflow('101_959')"
   ]
  },
  {
   "cell_type": "code",
   "execution_count": null,
   "metadata": {},
   "outputs": [],
   "source": []
  }
 ],
 "metadata": {
  "interpreter": {
   "hash": "71aabe6f1a03ef3ab91ab791759cfee46080b353293c6b2d97a55943f261d539"
  },
  "kernelspec": {
   "display_name": "Python 3.9.9 64-bit (windows store)",
   "name": "python3"
  },
  "language_info": {
   "codemirror_mode": {
    "name": "ipython",
    "version": 3
   },
   "file_extension": ".py",
   "mimetype": "text/x-python",
   "name": "python",
   "nbconvert_exporter": "python",
   "pygments_lexer": "ipython3",
   "version": "3.9.9"
  },
  "orig_nbformat": 4
 },
 "nbformat": 4,
 "nbformat_minor": 2
}
